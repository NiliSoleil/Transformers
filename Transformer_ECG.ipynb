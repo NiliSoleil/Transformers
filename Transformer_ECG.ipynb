{
  "cells": [
    {
      "cell_type": "markdown",
      "metadata": {
        "id": "ubp9lSqgJUx7"
      },
      "source": [
        "##**GPU**"
      ]
    },
    {
      "cell_type": "code",
      "execution_count": null,
      "metadata": {
        "id": "FvB2dRFFJZqK"
      },
      "outputs": [],
      "source": [
        "!nvidia-smi"
      ]
    },
    {
      "cell_type": "markdown",
      "metadata": {
        "id": "ELwgzDfGFXvr"
      },
      "source": [
        "# **Install**"
      ]
    },
    {
      "cell_type": "code",
      "execution_count": null,
      "metadata": {
        "id": "y6lhS-I-ZvvU",
        "colab": {
          "base_uri": "https://localhost:8080/"
        },
        "outputId": "b7f8d1f9-4bbb-4f93-c3b4-7ddbea58bfc4"
      },
      "outputs": [
        {
          "output_type": "stream",
          "name": "stdout",
          "text": [
            "Mounted at /content/drive\n"
          ]
        }
      ],
      "source": [
        "from google.colab import drive\n",
        "drive.mount('/content/drive')"
      ]
    },
    {
      "cell_type": "code",
      "execution_count": null,
      "metadata": {
        "colab": {
          "base_uri": "https://localhost:8080/"
        },
        "id": "dQ9OIgAs4iWa",
        "outputId": "a2a35e0a-4a21-4352-a087-b485a4324661"
      },
      "outputs": [
        {
          "output_type": "stream",
          "name": "stdout",
          "text": [
            "Collecting torchmetrics\n",
            "  Downloading torchmetrics-1.4.2-py3-none-any.whl.metadata (19 kB)\n",
            "Requirement already satisfied: numpy>1.20.0 in /usr/local/lib/python3.10/dist-packages (from torchmetrics) (1.26.4)\n",
            "Requirement already satisfied: packaging>17.1 in /usr/local/lib/python3.10/dist-packages (from torchmetrics) (24.1)\n",
            "Requirement already satisfied: torch>=1.10.0 in /usr/local/lib/python3.10/dist-packages (from torchmetrics) (2.4.0+cu121)\n",
            "Collecting lightning-utilities>=0.8.0 (from torchmetrics)\n",
            "  Downloading lightning_utilities-0.11.7-py3-none-any.whl.metadata (5.2 kB)\n",
            "Requirement already satisfied: setuptools in /usr/local/lib/python3.10/dist-packages (from lightning-utilities>=0.8.0->torchmetrics) (71.0.4)\n",
            "Requirement already satisfied: typing-extensions in /usr/local/lib/python3.10/dist-packages (from lightning-utilities>=0.8.0->torchmetrics) (4.12.2)\n",
            "Requirement already satisfied: filelock in /usr/local/lib/python3.10/dist-packages (from torch>=1.10.0->torchmetrics) (3.16.0)\n",
            "Requirement already satisfied: sympy in /usr/local/lib/python3.10/dist-packages (from torch>=1.10.0->torchmetrics) (1.13.2)\n",
            "Requirement already satisfied: networkx in /usr/local/lib/python3.10/dist-packages (from torch>=1.10.0->torchmetrics) (3.3)\n",
            "Requirement already satisfied: jinja2 in /usr/local/lib/python3.10/dist-packages (from torch>=1.10.0->torchmetrics) (3.1.4)\n",
            "Requirement already satisfied: fsspec in /usr/local/lib/python3.10/dist-packages (from torch>=1.10.0->torchmetrics) (2024.6.1)\n",
            "Requirement already satisfied: MarkupSafe>=2.0 in /usr/local/lib/python3.10/dist-packages (from jinja2->torch>=1.10.0->torchmetrics) (2.1.5)\n",
            "Requirement already satisfied: mpmath<1.4,>=1.1.0 in /usr/local/lib/python3.10/dist-packages (from sympy->torch>=1.10.0->torchmetrics) (1.3.0)\n",
            "Downloading torchmetrics-1.4.2-py3-none-any.whl (869 kB)\n",
            "\u001b[2K   \u001b[90m━━━━━━━━━━━━━━━━━━━━━━━━━━━━━━━━━━━━━━━━\u001b[0m \u001b[32m869.2/869.2 kB\u001b[0m \u001b[31m15.2 MB/s\u001b[0m eta \u001b[36m0:00:00\u001b[0m\n",
            "\u001b[?25hDownloading lightning_utilities-0.11.7-py3-none-any.whl (26 kB)\n",
            "Installing collected packages: lightning-utilities, torchmetrics\n",
            "Successfully installed lightning-utilities-0.11.7 torchmetrics-1.4.2\n"
          ]
        }
      ],
      "source": [
        "!pip install torchmetrics"
      ]
    },
    {
      "cell_type": "markdown",
      "source": [
        "# **Imports 📢**"
      ],
      "metadata": {
        "id": "cK_8Se8zzM-O"
      }
    },
    {
      "cell_type": "code",
      "execution_count": null,
      "metadata": {
        "id": "elvWkfuBIFAY"
      },
      "outputs": [],
      "source": [
        "import torch\n",
        "import torch.nn as nn\n",
        "import torch.optim as optim\n",
        "import torch.nn.functional as F\n",
        "from torch.utils.data import TensorDataset, DataLoader\n",
        "import torch.backends.cudnn as cudnn\n",
        "\n",
        "import matplotlib.pyplot as plt\n",
        "import numpy as np\n",
        "import pandas as pd\n",
        "\n",
        "from tqdm import tqdm\n",
        "from prettytable import PrettyTable\n",
        "from torchmetrics import Accuracy\n",
        "import math\n"
      ]
    },
    {
      "cell_type": "markdown",
      "metadata": {
        "id": "mbpEEA0g1-Be"
      },
      "source": [
        "# **Utils 🧰**"
      ]
    },
    {
      "cell_type": "code",
      "execution_count": null,
      "metadata": {
        "id": "G6s889_UrqDT"
      },
      "outputs": [],
      "source": [
        "class AverageMeter(object):\n",
        "    \"\"\"Computes and stores the average and current value\"\"\"\n",
        "    def __init__(self):\n",
        "        self.reset()\n",
        "\n",
        "    def reset(self):\n",
        "        self.val = 0\n",
        "        self.avg = 0\n",
        "        self.sum = 0\n",
        "        self.count = 0\n",
        "\n",
        "    def update(self, val, n=1):\n",
        "        self.val = val\n",
        "        self.sum += val * n\n",
        "        self.count += n\n",
        "        self.avg = self.sum / self.count"
      ]
    },
    {
      "cell_type": "markdown",
      "metadata": {
        "id": "OsNaqujTeiGx"
      },
      "source": [
        "# **Dataset 🗂️**"
      ]
    },
    {
      "cell_type": "code",
      "execution_count": null,
      "metadata": {
        "id": "tm3ub_qFBNJi",
        "colab": {
          "base_uri": "https://localhost:8080/"
        },
        "outputId": "2070b761-3eb6-40b5-b1af-63f51097a4fd"
      },
      "outputs": [
        {
          "output_type": "stream",
          "name": "stdout",
          "text": [
            "--2024-09-17 15:28:51--  https://www.timeseriesclassification.com/aeon-toolkit/ECG5000.zip\n",
            "Resolving www.timeseriesclassification.com (www.timeseriesclassification.com)... 212.78.75.243\n",
            "Connecting to www.timeseriesclassification.com (www.timeseriesclassification.com)|212.78.75.243|:443... connected.\n",
            "HTTP request sent, awaiting response... 200 \n",
            "Length: 10614407 (10M) [application/zip]\n",
            "Saving to: ‘ECG5000.zip’\n",
            "\n",
            "ECG5000.zip         100%[===================>]  10.12M  12.6MB/s    in 0.8s    \n",
            "\n",
            "2024-09-17 15:28:52 (12.6 MB/s) - ‘ECG5000.zip’ saved [10614407/10614407]\n",
            "\n"
          ]
        }
      ],
      "source": [
        "!wget https://www.timeseriesclassification.com/aeon-toolkit/ECG5000.zip"
      ]
    },
    {
      "cell_type": "code",
      "execution_count": null,
      "metadata": {
        "id": "w28G_acnCl7F",
        "colab": {
          "base_uri": "https://localhost:8080/"
        },
        "outputId": "2de80ded-3aed-43b4-e3f4-3c5f133854e7"
      },
      "outputs": [
        {
          "output_type": "stream",
          "name": "stdout",
          "text": [
            "Archive:  /content/ECG5000.zip\n",
            "  inflating: ECG5000.txt             \n",
            "  inflating: ECG5000_TEST.arff       \n",
            "  inflating: ECG5000_TEST.txt        \n",
            "  inflating: ECG5000_TRAIN.arff      \n",
            "  inflating: ECG5000_TRAIN.txt       \n",
            "  inflating: ECG5000_TEST.ts         \n",
            "  inflating: ECG5000_TRAIN.ts        \n"
          ]
        }
      ],
      "source": [
        "!unzip /content/ECG5000.zip"
      ]
    },
    {
      "cell_type": "code",
      "source": [
        "# !cp /content/drive/MyDrive/deep_learning_homework8/ECG5000.zip /content/\n",
        "# !unzip /content/ECG5000.zip"
      ],
      "metadata": {
        "id": "OMsLZaLzmTuL"
      },
      "execution_count": null,
      "outputs": []
    },
    {
      "cell_type": "markdown",
      "metadata": {
        "id": "9OGjhoLswlsM"
      },
      "source": [
        "## Dataset"
      ]
    },
    {
      "cell_type": "code",
      "execution_count": null,
      "metadata": {
        "colab": {
          "base_uri": "https://localhost:8080/"
        },
        "id": "zW38FyelCqtF",
        "outputId": "333e9aa0-4483-4460-b525-aa2c8812f8f1"
      },
      "outputs": [
        {
          "output_type": "stream",
          "name": "stdout",
          "text": [
            "Training data shape num_sam*L: (500, 140)\n",
            "Test data shape num_sam*L: (4500, 140)\n",
            "Training data shape: (500, 140, 1)\n",
            "Test data shape: (4500, 140, 1)\n",
            "[0. 1. 2. 3. 4.] [0. 1. 2. 3. 4.]\n"
          ]
        }
      ],
      "source": [
        "train_file = '/content/ECG5000_TRAIN.txt'\n",
        "test_file = '/content/ECG5000_TEST.txt'\n",
        "\n",
        "\n",
        "train_data = pd.read_csv(train_file, delim_whitespace=True, header=None)\n",
        "test_data = pd.read_csv(test_file, delim_whitespace=True, header=None)\n",
        "\n",
        "\n",
        "X_train = train_data.iloc[:, 1:].values  # ویژگی‌ها\n",
        "y_train = train_data.iloc[:, 0].values - 1    # برچسب‌ها\n",
        "\n",
        "X_test = test_data.iloc[:, 1:].values\n",
        "y_test = test_data.iloc[:, 0].values -1\n",
        "\n",
        "\n",
        "print(f\"Training data shape num_sam*L: {X_train.shape}\")\n",
        "print(f\"Test data shape num_sam*L: {X_test.shape}\")\n",
        "\n",
        "\n",
        "L = 140 #(sequence_length)\n",
        "F = 1 #(feature)\n",
        "\n",
        "\n",
        "X_train = X_train.reshape(-1, 140, 1)  # تبدیل داده‌های تمرین به شکل (num_Sam, L, F)\n",
        "X_test = X_test.reshape(-1, 140, 1)    # تبدیل داده‌های تست به شکل (num_Sam, L, F)\n",
        "\n",
        "\n",
        "print(f\"Training data shape: {X_train.shape}\")\n",
        "print(f\"Test data shape: {X_test.shape}\")\n",
        "\n",
        "print(np.unique(y_train),np.unique(y_test))"
      ]
    },
    {
      "cell_type": "code",
      "source": [
        "plt.plot(X_train[0])"
      ],
      "metadata": {
        "colab": {
          "base_uri": "https://localhost:8080/",
          "height": 447
        },
        "id": "Sx97eTh_nCtE",
        "outputId": "7bbea7b1-e157-4d51-95a0-339a2c1a8044"
      },
      "execution_count": null,
      "outputs": [
        {
          "output_type": "execute_result",
          "data": {
            "text/plain": [
              "[<matplotlib.lines.Line2D at 0x7b5247c6ab00>]"
            ]
          },
          "metadata": {},
          "execution_count": 14
        },
        {
          "output_type": "display_data",
          "data": {
            "text/plain": [
              "<Figure size 640x480 with 1 Axes>"
            ],
            "image/png": "[encoded data removed]"
          },
          "metadata": {}
        }
      ]
    },
    {
      "cell_type": "markdown",
      "metadata": {
        "id": "3aQRTc6n7-hi"
      },
      "source": [
        "## DataLoader"
      ]
    },
    {
      "cell_type": "code",
      "execution_count": null,
      "metadata": {
        "id": "zK9RywqUBJkt"
      },
      "outputs": [],
      "source": [
        "class ECGDataset(Dataset):\n",
        "    def __init__(self, X, y):\n",
        "        self.X = torch.tensor(X, dtype=torch.float32)\n",
        "        self.y = torch.tensor(y, dtype=torch.long)\n",
        "\n",
        "    def __len__(self):\n",
        "        return len(self.X)\n",
        "\n",
        "    def __getitem__(self, idx):\n",
        "        return self.X[idx], self.y[idx]\n",
        "\n"
      ]
    },
    {
      "cell_type": "code",
      "source": [
        "train_dataset = ECGDataset(X_train, y_train)\n",
        "test_dataset = ECGDataset(X_test, y_test)\n",
        "\n",
        "train_loader = DataLoader(train_dataset, batch_size=64, shuffle=True)\n",
        "test_loader = DataLoader(test_dataset, batch_size=64, shuffle=False)"
      ],
      "metadata": {
        "id": "zl3WS-VenKn7"
      },
      "execution_count": null,
      "outputs": []
    },
    {
      "cell_type": "code",
      "execution_count": null,
      "metadata": {
        "colab": {
          "base_uri": "https://localhost:8080/"
        },
        "id": "pwI8xEgmBK22",
        "outputId": "a372468e-5de3-4791-cc4a-c3a00d822ffb"
      },
      "outputs": [
        {
          "output_type": "execute_result",
          "data": {
            "text/plain": [
              "(torch.Size([64, 140, 1]), torch.Size([64]))"
            ]
          },
          "metadata": {},
          "execution_count": 18
        }
      ],
      "source": [
        "x_batch,y_batch = next(iter(train_loader))\n",
        "x_batch.shape,y_batch.shape"
      ]
    },
    {
      "cell_type": "markdown",
      "metadata": {
        "id": "DY5JMY1Yftsr"
      },
      "source": [
        "# **Init ⚙️**"
      ]
    },
    {
      "cell_type": "code",
      "execution_count": null,
      "metadata": {
        "id": "B6hzEMmdN7Uq"
      },
      "outputs": [],
      "source": [
        "num_cls = len(set(y_train))\n",
        "\n",
        "device = 'cuda' if torch.cuda.is_available() else 'cpu'"
      ]
    },
    {
      "cell_type": "markdown",
      "metadata": {
        "id": "-NBcJXJkfgUI"
      },
      "source": [
        "# **Model 🧠**"
      ]
    },
    {
      "cell_type": "markdown",
      "source": [
        "## TransformerModel"
      ],
      "metadata": {
        "id": "wcrZY7Rw2b5P"
      }
    },
    {
      "cell_type": "code",
      "execution_count": null,
      "metadata": {
        "id": "KxFA7n5dIrdo"
      },
      "outputs": [],
      "source": [
        "class TransformerModel(nn.Module):\n",
        "\n",
        "  def __init__(self, d_model, nhead, num_enc, dim_feed, dropout, activation):\n",
        "    super().__init__()\n",
        "    self.encoder = nn.Transformer(d_model,\n",
        "                                  nhead,\n",
        "                                  num_enc,\n",
        "                                  0,\n",
        "                                  dim_feed,\n",
        "                                  dropout,\n",
        "                                  activation,\n",
        "                                  batch_first=True).encoder\n",
        "\n",
        "    self.fc = nn.LazyLinear(num_cls)\n",
        "    self.linear0 = nn.LazyLinear(d_model)\n",
        "    self.bn0 = nn.LazyBatchNorm1d()\n",
        "\n",
        "  def forward(self, x):\n",
        "    x = self.bn0(self.linear0(x)).relu()\n",
        "    y = self.encoder(x)\n",
        "\n",
        "    y = self.fc(y[:, -1])\n",
        "\n",
        "    # y = y.mean(dim =1)\n",
        "    # y= self.fc(y)\n",
        "    return y"
      ]
    },
    {
      "cell_type": "code",
      "execution_count": null,
      "metadata": {
        "id": "7vbD5T3xJE63"
      },
      "outputs": [],
      "source": [
        "model = TransformerModel(d_model = 16, nhead = 4,  num_enc = 1, dim_feed = 4*16,dropout = 0.1, activation = 'relu').to(device)"
      ]
    },
    {
      "cell_type": "markdown",
      "metadata": {
        "id": "B_LljZFVAFPA"
      },
      "source": [
        "# **Functions** 🧮"
      ]
    },
    {
      "cell_type": "code",
      "execution_count": null,
      "metadata": {
        "id": "4W9MVeEqAYiq"
      },
      "outputs": [],
      "source": [
        "def train_one_epoch(model, train_loader, loss_fn, optimizer, epoch=None):\n",
        "  model.train()\n",
        "  loss_train = AverageMeter()\n",
        "  acc_train = Accuracy(task=\"multiclass\", num_classes=5).to(device)\n",
        "  with tqdm(train_loader, unit=\"batch\") as tepoch:\n",
        "    for inputs, targets in tepoch:\n",
        "      if epoch is not None:\n",
        "        tepoch.set_description(f\"Epoch {epoch}\")\n",
        "      inputs = inputs.to(device)\n",
        "      targets = targets.to(device)\n",
        "\n",
        "      outputs = model(inputs)\n",
        "\n",
        "      loss = loss_fn(outputs, targets)\n",
        "\n",
        "      loss.backward()\n",
        "      nn.utils.clip_grad_norm_(model.parameters(), 0.5)\n",
        "\n",
        "      optimizer.step()\n",
        "      optimizer.zero_grad()\n",
        "\n",
        "      loss_train.update(loss.item())\n",
        "      acc_train(outputs, targets.int())\n",
        "      tepoch.set_postfix(loss=loss_train.avg,\n",
        "                         accuracy=100.*acc_train.compute().item())\n",
        "  return model, loss_train.avg, acc_train.compute().item()"
      ]
    },
    {
      "cell_type": "code",
      "execution_count": null,
      "metadata": {
        "id": "ZEoGrXwZAaym"
      },
      "outputs": [],
      "source": [
        "def validation(model, valid_loader, loss_fn):\n",
        "  model.eval()\n",
        "  with torch.no_grad():\n",
        "    loss_valid = AverageMeter()\n",
        "    acc_valid = Accuracy(task=\"multiclass\", num_classes=5).to(device)\n",
        "    for i, (inputs, targets) in enumerate(valid_loader):\n",
        "      inputs = inputs.to(device)\n",
        "      targets = targets.to(device)\n",
        "\n",
        "      outputs = model(inputs)\n",
        "      loss = loss_fn(outputs, targets)\n",
        "\n",
        "      loss_valid.update(loss.item())\n",
        "      acc_valid(outputs, targets.int())\n",
        "  return loss_valid.avg, acc_valid.compute().item()"
      ]
    },
    {
      "cell_type": "code",
      "execution_count": null,
      "metadata": {
        "colab": {
          "base_uri": "https://localhost:8080/"
        },
        "id": "RZTrcJzORHbo",
        "outputId": "08838479-c207-4398-a05e-251e28521b86"
      },
      "outputs": [
        {
          "output_type": "execute_result",
          "data": {
            "text/plain": [
              "torch.Size([64, 5])"
            ]
          },
          "metadata": {},
          "execution_count": 24
        }
      ],
      "source": [
        "x_batch = x_batch.to(device)\n",
        "model = TransformerModel(d_model = 16, nhead = 4,  num_enc = 2, dim_feed = 4*16,dropout = 0.2, activation = 'relu').to(device)\n",
        "model(x_batch).shape"
      ]
    },
    {
      "cell_type": "code",
      "execution_count": null,
      "metadata": {
        "colab": {
          "base_uri": "https://localhost:8080/"
        },
        "id": "nC5BB0bUREIz",
        "outputId": "f94d9ddb-aaea-4435-8585-c40227e74b9f"
      },
      "outputs": [
        {
          "output_type": "execute_result",
          "data": {
            "text/plain": [
              "6989"
            ]
          },
          "metadata": {},
          "execution_count": 25
        }
      ],
      "source": [
        "def num_params(model):\n",
        "  nums = sum(p.numel() for p in model.parameters())\n",
        "  return nums\n",
        "\n",
        "num_params(model)"
      ]
    },
    {
      "cell_type": "markdown",
      "metadata": {
        "id": "9csGqnCvtFAS"
      },
      "source": [
        "# **Efficient way for set hyperparams 🔨**"
      ]
    },
    {
      "cell_type": "markdown",
      "metadata": {
        "id": "lpJ3wtyctQJH"
      },
      "source": [
        "## Step 1: check forward path\n",
        "\n",
        "Calculate loss for one batch"
      ]
    },
    {
      "cell_type": "code",
      "execution_count": null,
      "metadata": {
        "colab": {
          "base_uri": "https://localhost:8080/"
        },
        "id": "IpUgLpfWtMZP",
        "outputId": "5312df38-179e-42ac-f85e-9f81e30e3f87"
      },
      "outputs": [
        {
          "output_type": "stream",
          "name": "stdout",
          "text": [
            "tensor(1.9882, grad_fn=<NllLossBackward0>)\n"
          ]
        }
      ],
      "source": [
        "model = TransformerModel(d_model = 16, nhead = 4,  num_enc = 2, dim_feed = 4*16,dropout = 0.2, activation = 'relu').to(device)\n",
        "loss_fn = nn.CrossEntropyLoss()\n",
        "\n",
        "x_batch, y_batch = next(iter(train_loader))\n",
        "outputs = model(x_batch.to(device))\n",
        "loss = loss_fn(outputs, y_batch.to(device))\n",
        "print(loss)"
      ]
    },
    {
      "cell_type": "markdown",
      "metadata": {
        "id": "BrHQCv7q7LF_"
      },
      "source": [
        "## Step 2: check backward path\n",
        "\n",
        "Select 5 random batches and train the model"
      ]
    },
    {
      "cell_type": "code",
      "execution_count": null,
      "metadata": {
        "id": "Jxz5DXoj61mg"
      },
      "outputs": [],
      "source": [
        "_, mini_train_dataset = random_split(train_dataset, (len(train_dataset)-100, 100))\n",
        "mini_train_loader = DataLoader(mini_train_dataset, 20)"
      ]
    },
    {
      "cell_type": "code",
      "execution_count": null,
      "metadata": {
        "id": "J8yz1meO_fUS"
      },
      "outputs": [],
      "source": [
        "model = TransformerModel(d_model = 16, nhead = 4,  num_enc = 2, dim_feed = 4*16,dropout = 0.2, activation = 'relu').to(device)\n",
        "\n",
        "loss_fn = nn.CrossEntropyLoss()"
      ]
    },
    {
      "cell_type": "code",
      "execution_count": null,
      "metadata": {
        "id": "g0AG7IWGEcdG"
      },
      "outputs": [],
      "source": [
        "optimizer = optim.Adam(model.parameters(), lr=0.01, weight_decay=0.0001)"
      ]
    },
    {
      "cell_type": "code",
      "execution_count": null,
      "metadata": {
        "id": "PK-P20hI3snf",
        "colab": {
          "base_uri": "https://localhost:8080/"
        },
        "outputId": "719cf5a3-0250-46a9-c064-835e03679e25"
      },
      "outputs": [
        {
          "output_type": "stream",
          "name": "stderr",
          "text": [
            "Epoch 0: 100%|██████████| 5/5 [00:00<00:00, 10.86batch/s, accuracy=85, loss=0.633]\n",
            "Epoch 1: 100%|██████████| 5/5 [00:00<00:00, 11.94batch/s, accuracy=90, loss=0.457]\n",
            "Epoch 2: 100%|██████████| 5/5 [00:00<00:00, 12.30batch/s, accuracy=86, loss=0.578]\n",
            "Epoch 3: 100%|██████████| 5/5 [00:00<00:00, 11.66batch/s, accuracy=86, loss=0.514]\n",
            "Epoch 4: 100%|██████████| 5/5 [00:00<00:00, 11.11batch/s, accuracy=85, loss=0.603]\n",
            "Epoch 5: 100%|██████████| 5/5 [00:00<00:00, 13.17batch/s, accuracy=90, loss=0.359]\n",
            "Epoch 6: 100%|██████████| 5/5 [00:00<00:00, 13.39batch/s, accuracy=90, loss=0.371]\n",
            "Epoch 7: 100%|██████████| 5/5 [00:00<00:00, 12.37batch/s, accuracy=90, loss=0.401]\n",
            "Epoch 8: 100%|██████████| 5/5 [00:00<00:00, 11.96batch/s, accuracy=89, loss=0.36]\n",
            "Epoch 9: 100%|██████████| 5/5 [00:00<00:00, 11.38batch/s, accuracy=90, loss=0.362]\n",
            "Epoch 10: 100%|██████████| 5/5 [00:00<00:00, 12.44batch/s, accuracy=89, loss=0.424]\n",
            "Epoch 11: 100%|██████████| 5/5 [00:00<00:00, 12.12batch/s, accuracy=89, loss=0.431]\n",
            "Epoch 12: 100%|██████████| 5/5 [00:00<00:00, 14.03batch/s, accuracy=89, loss=0.365]\n",
            "Epoch 13: 100%|██████████| 5/5 [00:00<00:00, 12.75batch/s, accuracy=92, loss=0.305]\n",
            "Epoch 14: 100%|██████████| 5/5 [00:00<00:00, 12.43batch/s, accuracy=93, loss=0.284]\n",
            "Epoch 15: 100%|██████████| 5/5 [00:00<00:00, 12.25batch/s, accuracy=92, loss=0.291]\n",
            "Epoch 16: 100%|██████████| 5/5 [00:00<00:00, 11.88batch/s, accuracy=92, loss=0.356]\n",
            "Epoch 17: 100%|██████████| 5/5 [00:00<00:00, 12.95batch/s, accuracy=91, loss=0.293]\n",
            "Epoch 18: 100%|██████████| 5/5 [00:00<00:00, 12.94batch/s, accuracy=91, loss=0.365]\n",
            "Epoch 19: 100%|██████████| 5/5 [00:00<00:00,  8.92batch/s, accuracy=90, loss=0.315]\n",
            "Epoch 20: 100%|██████████| 5/5 [00:00<00:00,  9.55batch/s, accuracy=91, loss=0.29]\n",
            "Epoch 21: 100%|██████████| 5/5 [00:00<00:00, 10.30batch/s, accuracy=89, loss=0.421]\n",
            "Epoch 22: 100%|██████████| 5/5 [00:00<00:00,  9.36batch/s, accuracy=91, loss=0.309]\n",
            "Epoch 23: 100%|██████████| 5/5 [00:00<00:00, 10.71batch/s, accuracy=88, loss=0.45]\n",
            "Epoch 24: 100%|██████████| 5/5 [00:00<00:00,  9.74batch/s, accuracy=94, loss=0.231]\n",
            "Epoch 25: 100%|██████████| 5/5 [00:00<00:00, 10.22batch/s, accuracy=93, loss=0.221]\n",
            "Epoch 26: 100%|██████████| 5/5 [00:00<00:00,  9.33batch/s, accuracy=94, loss=0.231]\n",
            "Epoch 27: 100%|██████████| 5/5 [00:00<00:00,  9.36batch/s, accuracy=93, loss=0.28]\n",
            "Epoch 28: 100%|██████████| 5/5 [00:00<00:00, 12.82batch/s, accuracy=92, loss=0.253]\n",
            "Epoch 29: 100%|██████████| 5/5 [00:00<00:00, 12.57batch/s, accuracy=95, loss=0.189]\n",
            "Epoch 30: 100%|██████████| 5/5 [00:00<00:00, 12.52batch/s, accuracy=95, loss=0.191]\n",
            "Epoch 31: 100%|██████████| 5/5 [00:00<00:00, 12.60batch/s, accuracy=97, loss=0.169]\n",
            "Epoch 32: 100%|██████████| 5/5 [00:00<00:00, 12.87batch/s, accuracy=97, loss=0.13]\n",
            "Epoch 33: 100%|██████████| 5/5 [00:00<00:00, 12.50batch/s, accuracy=95, loss=0.171]\n",
            "Epoch 34: 100%|██████████| 5/5 [00:00<00:00, 13.21batch/s, accuracy=97, loss=0.117]\n",
            "Epoch 35: 100%|██████████| 5/5 [00:00<00:00, 13.29batch/s, accuracy=94, loss=0.167]\n",
            "Epoch 36: 100%|██████████| 5/5 [00:00<00:00, 13.48batch/s, accuracy=96, loss=0.156]\n",
            "Epoch 37: 100%|██████████| 5/5 [00:00<00:00, 15.37batch/s, accuracy=97, loss=0.1]\n",
            "Epoch 38: 100%|██████████| 5/5 [00:00<00:00, 14.01batch/s, accuracy=95, loss=0.142]\n",
            "Epoch 39: 100%|██████████| 5/5 [00:00<00:00, 13.69batch/s, accuracy=96, loss=0.105]\n",
            "Epoch 40: 100%|██████████| 5/5 [00:00<00:00, 14.54batch/s, accuracy=96, loss=0.168]\n",
            "Epoch 41: 100%|██████████| 5/5 [00:00<00:00, 13.92batch/s, accuracy=95, loss=0.116]\n",
            "Epoch 42: 100%|██████████| 5/5 [00:00<00:00, 14.93batch/s, accuracy=95, loss=0.151]\n",
            "Epoch 43: 100%|██████████| 5/5 [00:00<00:00, 14.15batch/s, accuracy=94, loss=0.21]\n",
            "Epoch 44: 100%|██████████| 5/5 [00:00<00:00, 13.73batch/s, accuracy=94, loss=0.156]\n",
            "Epoch 45: 100%|██████████| 5/5 [00:00<00:00, 14.30batch/s, accuracy=96, loss=0.142]\n",
            "Epoch 46: 100%|██████████| 5/5 [00:00<00:00, 15.26batch/s, accuracy=96, loss=0.108]\n",
            "Epoch 47: 100%|██████████| 5/5 [00:00<00:00, 13.59batch/s, accuracy=97, loss=0.105]\n",
            "Epoch 48: 100%|██████████| 5/5 [00:00<00:00, 13.69batch/s, accuracy=97, loss=0.109]\n",
            "Epoch 49: 100%|██████████| 5/5 [00:00<00:00, 14.69batch/s, accuracy=98, loss=0.0993]\n",
            "Epoch 50: 100%|██████████| 5/5 [00:00<00:00, 13.06batch/s, accuracy=96, loss=0.102]\n",
            "Epoch 51: 100%|██████████| 5/5 [00:00<00:00, 14.67batch/s, accuracy=98, loss=0.0783]\n",
            "Epoch 52: 100%|██████████| 5/5 [00:00<00:00, 11.91batch/s, accuracy=98, loss=0.075]\n",
            "Epoch 53: 100%|██████████| 5/5 [00:00<00:00, 14.24batch/s, accuracy=95, loss=0.2]\n",
            "Epoch 54: 100%|██████████| 5/5 [00:00<00:00, 12.48batch/s, accuracy=97, loss=0.0565]\n",
            "Epoch 55: 100%|██████████| 5/5 [00:00<00:00, 11.05batch/s, accuracy=98, loss=0.0805]\n",
            "Epoch 56: 100%|██████████| 5/5 [00:00<00:00, 11.89batch/s, accuracy=95, loss=0.215]\n",
            "Epoch 57: 100%|██████████| 5/5 [00:00<00:00,  9.80batch/s, accuracy=96, loss=0.132]\n",
            "Epoch 58: 100%|██████████| 5/5 [00:00<00:00,  9.08batch/s, accuracy=95, loss=0.161]\n",
            "Epoch 59: 100%|██████████| 5/5 [00:00<00:00,  9.35batch/s, accuracy=95, loss=0.188]\n",
            "Epoch 60: 100%|██████████| 5/5 [00:00<00:00,  9.36batch/s, accuracy=92, loss=0.274]\n",
            "Epoch 61: 100%|██████████| 5/5 [00:00<00:00,  9.55batch/s, accuracy=96, loss=0.127]\n",
            "Epoch 62: 100%|██████████| 5/5 [00:00<00:00, 10.70batch/s, accuracy=98, loss=0.122]\n",
            "Epoch 63: 100%|██████████| 5/5 [00:00<00:00,  9.05batch/s, accuracy=99, loss=0.0593]\n",
            "Epoch 64: 100%|██████████| 5/5 [00:00<00:00, 10.06batch/s, accuracy=97, loss=0.0974]\n",
            "Epoch 65: 100%|██████████| 5/5 [00:00<00:00, 12.25batch/s, accuracy=96, loss=0.0897]\n",
            "Epoch 66: 100%|██████████| 5/5 [00:00<00:00, 14.12batch/s, accuracy=97, loss=0.101]\n",
            "Epoch 67: 100%|██████████| 5/5 [00:00<00:00, 10.86batch/s, accuracy=98, loss=0.051]\n",
            "Epoch 68: 100%|██████████| 5/5 [00:00<00:00, 13.14batch/s, accuracy=99, loss=0.0661]\n",
            "Epoch 69: 100%|██████████| 5/5 [00:00<00:00, 11.72batch/s, accuracy=98, loss=0.0614]\n",
            "Epoch 70: 100%|██████████| 5/5 [00:00<00:00, 11.50batch/s, accuracy=98, loss=0.12]\n",
            "Epoch 71: 100%|██████████| 5/5 [00:00<00:00, 13.28batch/s, accuracy=99, loss=0.0692]\n",
            "Epoch 72: 100%|██████████| 5/5 [00:00<00:00, 13.60batch/s, accuracy=98, loss=0.13]\n",
            "Epoch 73: 100%|██████████| 5/5 [00:00<00:00, 15.03batch/s, accuracy=95, loss=0.0853]\n",
            "Epoch 74: 100%|██████████| 5/5 [00:00<00:00, 13.71batch/s, accuracy=97, loss=0.14]\n",
            "Epoch 75: 100%|██████████| 5/5 [00:00<00:00, 14.31batch/s, accuracy=97, loss=0.112]\n",
            "Epoch 76: 100%|██████████| 5/5 [00:00<00:00, 15.06batch/s, accuracy=97, loss=0.135]\n",
            "Epoch 77: 100%|██████████| 5/5 [00:00<00:00, 12.08batch/s, accuracy=100, loss=0.00935]\n",
            "Epoch 78: 100%|██████████| 5/5 [00:00<00:00, 12.93batch/s, accuracy=98, loss=0.0661]\n",
            "Epoch 79: 100%|██████████| 5/5 [00:00<00:00, 11.94batch/s, accuracy=97, loss=0.105]\n",
            "Epoch 80: 100%|██████████| 5/5 [00:00<00:00, 11.34batch/s, accuracy=98, loss=0.134]\n",
            "Epoch 81: 100%|██████████| 5/5 [00:00<00:00, 14.39batch/s, accuracy=100, loss=0.00768]\n",
            "Epoch 82: 100%|██████████| 5/5 [00:00<00:00, 13.17batch/s, accuracy=100, loss=0.0191]\n",
            "Epoch 83: 100%|██████████| 5/5 [00:00<00:00, 14.42batch/s, accuracy=99, loss=0.0261]\n",
            "Epoch 84: 100%|██████████| 5/5 [00:00<00:00, 14.47batch/s, accuracy=98, loss=0.06]\n",
            "Epoch 85: 100%|██████████| 5/5 [00:00<00:00, 11.60batch/s, accuracy=98, loss=0.0921]\n",
            "Epoch 86: 100%|██████████| 5/5 [00:00<00:00, 13.64batch/s, accuracy=99, loss=0.0154]\n",
            "Epoch 87: 100%|██████████| 5/5 [00:00<00:00, 11.61batch/s, accuracy=99, loss=0.0221]\n",
            "Epoch 88: 100%|██████████| 5/5 [00:00<00:00, 12.14batch/s, accuracy=96, loss=0.131]\n",
            "Epoch 89: 100%|██████████| 5/5 [00:00<00:00,  9.88batch/s, accuracy=96, loss=0.237]\n",
            "Epoch 90: 100%|██████████| 5/5 [00:00<00:00,  9.51batch/s, accuracy=98, loss=0.124]\n",
            "Epoch 91: 100%|██████████| 5/5 [00:00<00:00,  8.91batch/s, accuracy=95, loss=0.307]\n",
            "Epoch 92: 100%|██████████| 5/5 [00:00<00:00,  9.32batch/s, accuracy=98, loss=0.126]\n",
            "Epoch 93: 100%|██████████| 5/5 [00:00<00:00, 10.36batch/s, accuracy=99, loss=0.0924]\n",
            "Epoch 94: 100%|██████████| 5/5 [00:00<00:00, 11.09batch/s, accuracy=100, loss=0.0121]\n",
            "Epoch 95: 100%|██████████| 5/5 [00:00<00:00,  8.83batch/s, accuracy=97, loss=0.0978]\n",
            "Epoch 96: 100%|██████████| 5/5 [00:00<00:00, 10.17batch/s, accuracy=98, loss=0.0407]\n",
            "Epoch 97: 100%|██████████| 5/5 [00:00<00:00,  9.72batch/s, accuracy=98, loss=0.0837]\n",
            "Epoch 98: 100%|██████████| 5/5 [00:00<00:00,  9.48batch/s, accuracy=97, loss=0.124]\n",
            "Epoch 99: 100%|██████████| 5/5 [00:00<00:00, 12.59batch/s, accuracy=96, loss=0.107]\n"
          ]
        }
      ],
      "source": [
        "num_epochs = 100\n",
        "for epoch in range(num_epochs):\n",
        "  model, _, _ = train_one_epoch(model, mini_train_loader, loss_fn, optimizer, epoch)"
      ]
    },
    {
      "cell_type": "markdown",
      "metadata": {
        "id": "BLT4w0ZfAhlJ"
      },
      "source": [
        "## Step 3: select best lr\n",
        "\n",
        "Train all data for 3 epochs"
      ]
    },
    {
      "cell_type": "code",
      "execution_count": null,
      "metadata": {
        "id": "c7tlXlY4_Dwi",
        "colab": {
          "base_uri": "https://localhost:8080/"
        },
        "outputId": "5826e723-4854-4a5a-d255-3b355ed5ae08"
      },
      "outputs": [
        {
          "output_type": "stream",
          "name": "stdout",
          "text": [
            "LR=0.01\n"
          ]
        },
        {
          "output_type": "stream",
          "name": "stderr",
          "text": [
            "Epoch 0: 100%|██████████| 8/8 [00:02<00:00,  3.41batch/s, accuracy=50, loss=1.11]\n",
            "Epoch 1: 100%|██████████| 8/8 [00:02<00:00,  3.30batch/s, accuracy=59.2, loss=0.894]\n",
            "Epoch 2: 100%|██████████| 8/8 [00:01<00:00,  4.17batch/s, accuracy=77.2, loss=0.674]\n"
          ]
        },
        {
          "output_type": "stream",
          "name": "stdout",
          "text": [
            "\n",
            "LR=0.001\n"
          ]
        },
        {
          "output_type": "stream",
          "name": "stderr",
          "text": [
            "Epoch 0: 100%|██████████| 8/8 [00:01<00:00,  4.50batch/s, accuracy=49, loss=1.21]\n",
            "Epoch 1: 100%|██████████| 8/8 [00:01<00:00,  4.34batch/s, accuracy=58, loss=1.05]\n",
            "Epoch 2: 100%|██████████| 8/8 [00:01<00:00,  4.25batch/s, accuracy=56.6, loss=0.975]\n"
          ]
        },
        {
          "output_type": "stream",
          "name": "stdout",
          "text": [
            "\n",
            "LR=0.0001\n"
          ]
        },
        {
          "output_type": "stream",
          "name": "stderr",
          "text": [
            "Epoch 0: 100%|██████████| 8/8 [00:01<00:00,  5.00batch/s, accuracy=15.2, loss=1.53]\n",
            "Epoch 1: 100%|██████████| 8/8 [00:02<00:00,  3.76batch/s, accuracy=20, loss=1.46]\n",
            "Epoch 2: 100%|██████████| 8/8 [00:02<00:00,  3.17batch/s, accuracy=29.4, loss=1.4]"
          ]
        },
        {
          "output_type": "stream",
          "name": "stdout",
          "text": [
            "\n"
          ]
        },
        {
          "output_type": "stream",
          "name": "stderr",
          "text": [
            "\n"
          ]
        }
      ],
      "source": [
        "num_epochs = 3\n",
        "for lr in [0.01, 0.001, 0.0001]:\n",
        "  print(f'LR={lr}')\n",
        "  model = TransformerModel(d_model = 16, nhead = 4,  num_enc = 2, dim_feed = 4*16,dropout = 0.2, activation = 'relu').to(device)\n",
        "  optimizer = optim.Adam(model.parameters(), lr=lr, weight_decay=0.0001)\n",
        "  for epoch in range(num_epochs):\n",
        "    model, _, _ = train_one_epoch(model, train_loader, loss_fn, optimizer, epoch)\n",
        "  print()"
      ]
    },
    {
      "cell_type": "markdown",
      "metadata": {
        "id": "uC2GhaXfA8vC"
      },
      "source": [
        "## Step 4: small grid (optional)\n",
        "\n",
        "Create a small grid based on the WD and the best LR\n",
        "\n"
      ]
    },
    {
      "cell_type": "code",
      "execution_count": null,
      "metadata": {
        "id": "yIta-JKgA7-I",
        "colab": {
          "base_uri": "https://localhost:8080/"
        },
        "outputId": "6de8fd54-dd2e-4920-81da-7221b729370a"
      },
      "outputs": [
        {
          "output_type": "stream",
          "name": "stdout",
          "text": [
            "LR=0.02, WD=0.0001\n"
          ]
        },
        {
          "output_type": "stream",
          "name": "stderr",
          "text": [
            "Epoch 0: 100%|██████████| 8/8 [00:01<00:00,  4.01batch/s, accuracy=53.4, loss=1.06]\n",
            "Epoch 1: 100%|██████████| 8/8 [00:01<00:00,  4.15batch/s, accuracy=58.8, loss=0.934]\n",
            "Epoch 2: 100%|██████████| 8/8 [00:01<00:00,  4.04batch/s, accuracy=57.4, loss=0.882]\n",
            "Epoch 3: 100%|██████████| 8/8 [00:01<00:00,  4.18batch/s, accuracy=77.2, loss=0.662]\n",
            "Epoch 4: 100%|██████████| 8/8 [00:02<00:00,  3.39batch/s, accuracy=84.8, loss=0.583]\n"
          ]
        },
        {
          "output_type": "stream",
          "name": "stdout",
          "text": [
            "\n",
            "LR=0.02, WD=1e-05\n"
          ]
        },
        {
          "output_type": "stream",
          "name": "stderr",
          "text": [
            "Epoch 0: 100%|██████████| 8/8 [00:02<00:00,  3.89batch/s, accuracy=50.8, loss=1.05]\n",
            "Epoch 1: 100%|██████████| 8/8 [00:01<00:00,  4.36batch/s, accuracy=72, loss=0.746]\n",
            "Epoch 2: 100%|██████████| 8/8 [00:01<00:00,  4.09batch/s, accuracy=87.4, loss=0.53]\n",
            "Epoch 3: 100%|██████████| 8/8 [00:01<00:00,  4.13batch/s, accuracy=90.2, loss=0.39]\n",
            "Epoch 4: 100%|██████████| 8/8 [00:01<00:00,  4.65batch/s, accuracy=90.8, loss=0.345]\n"
          ]
        },
        {
          "output_type": "stream",
          "name": "stdout",
          "text": [
            "\n",
            "LR=0.02, WD=0.0\n"
          ]
        },
        {
          "output_type": "stream",
          "name": "stderr",
          "text": [
            "Epoch 0: 100%|██████████| 8/8 [00:01<00:00,  4.69batch/s, accuracy=56.4, loss=0.984]\n",
            "Epoch 1: 100%|██████████| 8/8 [00:02<00:00,  3.74batch/s, accuracy=83, loss=0.621]\n",
            "Epoch 2: 100%|██████████| 8/8 [00:02<00:00,  3.39batch/s, accuracy=90.2, loss=0.444]\n",
            "Epoch 3: 100%|██████████| 8/8 [00:02<00:00,  3.65batch/s, accuracy=87.8, loss=0.515]\n",
            "Epoch 4: 100%|██████████| 8/8 [00:02<00:00,  3.95batch/s, accuracy=91, loss=0.388]\n"
          ]
        },
        {
          "output_type": "stream",
          "name": "stdout",
          "text": [
            "\n",
            "LR=0.01, WD=0.0001\n"
          ]
        },
        {
          "output_type": "stream",
          "name": "stderr",
          "text": [
            "Epoch 0: 100%|██████████| 8/8 [00:01<00:00,  4.23batch/s, accuracy=51.2, loss=1.06]\n",
            "Epoch 1: 100%|██████████| 8/8 [00:01<00:00,  4.46batch/s, accuracy=80.6, loss=0.62]\n",
            "Epoch 2: 100%|██████████| 8/8 [00:02<00:00,  3.94batch/s, accuracy=89.6, loss=0.443]\n",
            "Epoch 3: 100%|██████████| 8/8 [00:02<00:00,  3.28batch/s, accuracy=89.8, loss=0.423]\n",
            "Epoch 4: 100%|██████████| 8/8 [00:02<00:00,  2.96batch/s, accuracy=91.2, loss=0.392]\n"
          ]
        },
        {
          "output_type": "stream",
          "name": "stdout",
          "text": [
            "\n",
            "LR=0.01, WD=1e-05\n"
          ]
        },
        {
          "output_type": "stream",
          "name": "stderr",
          "text": [
            "Epoch 0: 100%|██████████| 8/8 [00:01<00:00,  4.41batch/s, accuracy=53, loss=1.05]\n",
            "Epoch 1: 100%|██████████| 8/8 [00:01<00:00,  4.29batch/s, accuracy=62.4, loss=0.868]\n",
            "Epoch 2: 100%|██████████| 8/8 [00:01<00:00,  4.28batch/s, accuracy=75.2, loss=0.715]\n",
            "Epoch 3: 100%|██████████| 8/8 [00:01<00:00,  4.13batch/s, accuracy=85.6, loss=0.501]\n",
            "Epoch 4: 100%|██████████| 8/8 [00:02<00:00,  3.96batch/s, accuracy=89, loss=0.413]\n"
          ]
        },
        {
          "output_type": "stream",
          "name": "stdout",
          "text": [
            "\n",
            "LR=0.01, WD=0.0\n"
          ]
        },
        {
          "output_type": "stream",
          "name": "stderr",
          "text": [
            "Epoch 0: 100%|██████████| 8/8 [00:02<00:00,  3.30batch/s, accuracy=56.2, loss=1.02]\n",
            "Epoch 1: 100%|██████████| 8/8 [00:02<00:00,  3.01batch/s, accuracy=73.4, loss=0.745]\n",
            "Epoch 2: 100%|██████████| 8/8 [00:02<00:00,  3.79batch/s, accuracy=84.6, loss=0.572]\n",
            "Epoch 3: 100%|██████████| 8/8 [00:01<00:00,  4.35batch/s, accuracy=88.8, loss=0.431]\n",
            "Epoch 4: 100%|██████████| 8/8 [00:01<00:00,  4.37batch/s, accuracy=90.2, loss=0.398]\n"
          ]
        },
        {
          "output_type": "stream",
          "name": "stdout",
          "text": [
            "\n",
            "LR=0.001, WD=0.0001\n"
          ]
        },
        {
          "output_type": "stream",
          "name": "stderr",
          "text": [
            "Epoch 0: 100%|██████████| 8/8 [00:01<00:00,  4.54batch/s, accuracy=38.6, loss=1.56]\n",
            "Epoch 1: 100%|██████████| 8/8 [00:01<00:00,  4.68batch/s, accuracy=54.8, loss=1.2]\n",
            "Epoch 2: 100%|██████████| 8/8 [00:02<00:00,  3.77batch/s, accuracy=56.8, loss=1.08]\n",
            "Epoch 3: 100%|██████████| 8/8 [00:02<00:00,  2.94batch/s, accuracy=55.6, loss=1.02]\n",
            "Epoch 4: 100%|██████████| 8/8 [00:02<00:00,  3.77batch/s, accuracy=58.4, loss=0.967]\n"
          ]
        },
        {
          "output_type": "stream",
          "name": "stdout",
          "text": [
            "\n",
            "LR=0.001, WD=1e-05\n"
          ]
        },
        {
          "output_type": "stream",
          "name": "stderr",
          "text": [
            "Epoch 0: 100%|██████████| 8/8 [00:01<00:00,  4.38batch/s, accuracy=40.4, loss=1.43]\n",
            "Epoch 1: 100%|██████████| 8/8 [00:01<00:00,  4.31batch/s, accuracy=57.4, loss=1.05]\n",
            "Epoch 2: 100%|██████████| 8/8 [00:01<00:00,  4.04batch/s, accuracy=57.8, loss=0.968]\n",
            "Epoch 3: 100%|██████████| 8/8 [00:01<00:00,  4.26batch/s, accuracy=61.2, loss=0.912]\n",
            "Epoch 4: 100%|██████████| 8/8 [00:02<00:00,  3.85batch/s, accuracy=61.6, loss=0.867]\n"
          ]
        },
        {
          "output_type": "stream",
          "name": "stdout",
          "text": [
            "\n",
            "LR=0.001, WD=0.0\n"
          ]
        },
        {
          "output_type": "stream",
          "name": "stderr",
          "text": [
            "Epoch 0: 100%|██████████| 8/8 [00:02<00:00,  2.97batch/s, accuracy=25.4, loss=1.59]\n",
            "Epoch 1: 100%|██████████| 8/8 [00:01<00:00,  4.01batch/s, accuracy=50.6, loss=1.18]\n",
            "Epoch 2: 100%|██████████| 8/8 [00:01<00:00,  4.47batch/s, accuracy=56.2, loss=1.02]\n",
            "Epoch 3: 100%|██████████| 8/8 [00:01<00:00,  4.28batch/s, accuracy=56.6, loss=0.975]\n",
            "Epoch 4: 100%|██████████| 8/8 [00:01<00:00,  4.45batch/s, accuracy=58.2, loss=0.933]\n"
          ]
        },
        {
          "output_type": "stream",
          "name": "stdout",
          "text": [
            "\n",
            "LR=0.002, WD=0.0001\n"
          ]
        },
        {
          "output_type": "stream",
          "name": "stderr",
          "text": [
            "Epoch 0: 100%|██████████| 8/8 [00:01<00:00,  4.36batch/s, accuracy=46.6, loss=1.42]\n",
            "Epoch 1: 100%|██████████| 8/8 [00:02<00:00,  3.90batch/s, accuracy=58.2, loss=1.08]\n",
            "Epoch 2: 100%|██████████| 8/8 [00:02<00:00,  3.18batch/s, accuracy=60, loss=0.976]\n",
            "Epoch 3: 100%|██████████| 8/8 [00:02<00:00,  3.44batch/s, accuracy=59.6, loss=0.913]\n",
            "Epoch 4: 100%|██████████| 8/8 [00:02<00:00,  3.92batch/s, accuracy=61.2, loss=0.877]\n"
          ]
        },
        {
          "output_type": "stream",
          "name": "stdout",
          "text": [
            "\n",
            "LR=0.002, WD=1e-05\n"
          ]
        },
        {
          "output_type": "stream",
          "name": "stderr",
          "text": [
            "Epoch 0: 100%|██████████| 8/8 [00:01<00:00,  4.39batch/s, accuracy=33.6, loss=1.53]\n",
            "Epoch 1: 100%|██████████| 8/8 [00:01<00:00,  4.13batch/s, accuracy=59.2, loss=0.998]\n",
            "Epoch 2: 100%|██████████| 8/8 [00:01<00:00,  4.06batch/s, accuracy=57.2, loss=0.94]\n",
            "Epoch 3: 100%|██████████| 8/8 [00:02<00:00,  3.89batch/s, accuracy=63.6, loss=0.876]\n",
            "Epoch 4: 100%|██████████| 8/8 [00:02<00:00,  3.09batch/s, accuracy=67.8, loss=0.805]\n"
          ]
        },
        {
          "output_type": "stream",
          "name": "stdout",
          "text": [
            "\n",
            "LR=0.002, WD=0.0\n"
          ]
        },
        {
          "output_type": "stream",
          "name": "stderr",
          "text": [
            "Epoch 0: 100%|██████████| 8/8 [00:02<00:00,  3.90batch/s, accuracy=49.2, loss=1.2]\n",
            "Epoch 1: 100%|██████████| 8/8 [00:01<00:00,  4.63batch/s, accuracy=57.8, loss=0.995]\n",
            "Epoch 2: 100%|██████████| 8/8 [00:01<00:00,  4.40batch/s, accuracy=59, loss=0.935]\n",
            "Epoch 3: 100%|██████████| 8/8 [00:01<00:00,  4.54batch/s, accuracy=60.6, loss=0.894]\n",
            "Epoch 4: 100%|██████████| 8/8 [00:01<00:00,  4.34batch/s, accuracy=65.6, loss=0.847]"
          ]
        },
        {
          "output_type": "stream",
          "name": "stdout",
          "text": [
            "\n",
            "+----------------------+----------------------+----------------------+\n",
            "|    Learning Rate     |     Weight decay     |         loss         |\n",
            "+----------------------+----------------------+----------------------+\n",
            "|         0.02         |        0.0001        |        0.5830        |\n",
            "|         0.02         |        1e-05         |        0.3452        |\n",
            "|         0.02         |         0.0          |        0.3880        |\n",
            "| -------------------- | -------------------- | -------------------- |\n",
            "|         0.01         |        0.0001        |        0.3919        |\n",
            "|         0.01         |        1e-05         |        0.4126        |\n",
            "|         0.01         |         0.0          |        0.3985        |\n",
            "| -------------------- | -------------------- | -------------------- |\n",
            "|        0.001         |        0.0001        |        0.9669        |\n",
            "|        0.001         |        1e-05         |        0.8673        |\n",
            "|        0.001         |         0.0          |        0.9334        |\n",
            "| -------------------- | -------------------- | -------------------- |\n",
            "|        0.002         |        0.0001        |        0.8772        |\n",
            "|        0.002         |        1e-05         |        0.8054        |\n",
            "|        0.002         |         0.0          |        0.8469        |\n",
            "| -------------------- | -------------------- | -------------------- |\n",
            "+----------------------+----------------------+----------------------+\n"
          ]
        },
        {
          "output_type": "stream",
          "name": "stderr",
          "text": [
            "\n"
          ]
        }
      ],
      "source": [
        "num_epochs = 5\n",
        "my_table = PrettyTable([\"Learning Rate\", \"Weight decay\", \"loss\"])\n",
        "\n",
        "for lr in [ 0.02, 0.01, 0.001, 0.002]:\n",
        "  for wd in [1e-4, 1e-5, 0.]:\n",
        "    model = TransformerModel(d_model = 16, nhead = 4,  num_enc = 2, dim_feed = 4*16,dropout = 0.2, activation = 'relu').to(device)\n",
        "    optimizer = optim.Adam(model.parameters(), lr=lr, weight_decay=wd)\n",
        "    print(f'LR={lr}, WD={wd}')\n",
        "\n",
        "    for epoch in range(num_epochs):\n",
        "      model, loss, _ = train_one_epoch(model, train_loader, loss_fn, optimizer, epoch)\n",
        "\n",
        "      if epoch == num_epochs-1:\n",
        "        my_table.add_row([lr, wd, f'{loss:.4f}'])\n",
        "    print()\n",
        "\n",
        "  my_table.add_row([20*'-', 20*'-', 20*'-'])\n",
        "\n",
        "print(my_table)\n"
      ]
    },
    {
      "cell_type": "markdown",
      "metadata": {
        "id": "oBW2SLfEEkCp"
      },
      "source": [
        "## Step 5: train more epochs"
      ]
    },
    {
      "cell_type": "code",
      "execution_count": null,
      "metadata": {
        "id": "pCCY2WecCyyg"
      },
      "outputs": [],
      "source": [
        "model = TransformerModel(d_model = 16, nhead = 4,  num_enc = 2, dim_feed = 4*16,dropout = 0.2, activation = 'relu').to(device)"
      ]
    },
    {
      "cell_type": "code",
      "execution_count": null,
      "metadata": {
        "id": "bowjVB5yIXUP"
      },
      "outputs": [],
      "source": [
        "lr = 0.01\n",
        "wd = 0.0001\n",
        "\n",
        "optimizer = optim.Adam(model.parameters(), lr= lr, weight_decay=wd) #40 epochs > lr =0.01\n",
        "# optimizer = optim.SGD(model.parameters(), lr=lr, momentum=0.9)  #40 epochs > lr =0.01, 20 epoch > lr = 0.001\n",
        "\n",
        "loss_fn = nn.CrossEntropyLoss()"
      ]
    },
    {
      "cell_type": "code",
      "execution_count": null,
      "metadata": {
        "id": "FIrBCdHBIeRb"
      },
      "outputs": [],
      "source": [
        "loss_train_hist = []\n",
        "loss_test_hist = []\n",
        "\n",
        "acc_train_hist = []\n",
        "acc_test_hist = []\n",
        "\n",
        "best_loss_test = torch.inf\n",
        "epoch_counter = 0"
      ]
    },
    {
      "cell_type": "code",
      "execution_count": null,
      "metadata": {
        "colab": {
          "base_uri": "https://localhost:8080/"
        },
        "id": "iR7ua7gBVaAs",
        "outputId": "31ba508a-1428-4dfd-920c-14675fcf45c7"
      },
      "outputs": [
        {
          "output_type": "stream",
          "name": "stderr",
          "text": [
            "Epoch 0: 100%|██████████| 8/8 [00:01<00:00,  4.02batch/s, accuracy=49.8, loss=1.19]\n"
          ]
        },
        {
          "output_type": "stream",
          "name": "stdout",
          "text": [
            "test: Loss = 0.9057, Acc = 0.6051\n",
            "\n"
          ]
        },
        {
          "output_type": "stream",
          "name": "stderr",
          "text": [
            "Epoch 1: 100%|██████████| 8/8 [00:01<00:00,  4.29batch/s, accuracy=62.2, loss=0.848]\n"
          ]
        },
        {
          "output_type": "stream",
          "name": "stdout",
          "text": [
            "test: Loss = 0.8051, Acc = 0.6876\n",
            "\n"
          ]
        },
        {
          "output_type": "stream",
          "name": "stderr",
          "text": [
            "Epoch 2: 100%|██████████| 8/8 [00:02<00:00,  3.56batch/s, accuracy=75, loss=0.681]\n"
          ]
        },
        {
          "output_type": "stream",
          "name": "stdout",
          "text": [
            "test: Loss = 0.5192, Acc = 0.8627\n",
            "\n"
          ]
        },
        {
          "output_type": "stream",
          "name": "stderr",
          "text": [
            "Epoch 3: 100%|██████████| 8/8 [00:02<00:00,  3.97batch/s, accuracy=88.6, loss=0.461]\n"
          ]
        },
        {
          "output_type": "stream",
          "name": "stdout",
          "text": [
            "test: Loss = 0.4278, Acc = 0.9058\n",
            "\n"
          ]
        },
        {
          "output_type": "stream",
          "name": "stderr",
          "text": [
            "Epoch 4: 100%|██████████| 8/8 [00:02<00:00,  3.01batch/s, accuracy=90.4, loss=0.398]\n"
          ]
        },
        {
          "output_type": "stream",
          "name": "stdout",
          "text": [
            "test: Loss = 0.4268, Acc = 0.906\n",
            "\n"
          ]
        },
        {
          "output_type": "stream",
          "name": "stderr",
          "text": [
            "Epoch 5: 100%|██████████| 8/8 [00:01<00:00,  4.10batch/s, accuracy=89.6, loss=0.39]\n"
          ]
        },
        {
          "output_type": "stream",
          "name": "stdout",
          "text": [
            "test: Loss = 0.4098, Acc = 0.9111\n",
            "\n"
          ]
        },
        {
          "output_type": "stream",
          "name": "stderr",
          "text": [
            "Epoch 6: 100%|██████████| 8/8 [00:02<00:00,  3.62batch/s, accuracy=91.2, loss=0.367]\n"
          ]
        },
        {
          "output_type": "stream",
          "name": "stdout",
          "text": [
            "test: Loss = 0.4478, Acc = 0.908\n",
            "\n"
          ]
        },
        {
          "output_type": "stream",
          "name": "stderr",
          "text": [
            "Epoch 7: 100%|██████████| 8/8 [00:01<00:00,  4.18batch/s, accuracy=92, loss=0.339]\n"
          ]
        },
        {
          "output_type": "stream",
          "name": "stdout",
          "text": [
            "test: Loss = 0.3497, Acc = 0.9156\n",
            "\n"
          ]
        },
        {
          "output_type": "stream",
          "name": "stderr",
          "text": [
            "Epoch 8: 100%|██████████| 8/8 [00:01<00:00,  4.30batch/s, accuracy=91.8, loss=0.344]\n"
          ]
        },
        {
          "output_type": "stream",
          "name": "stdout",
          "text": [
            "test: Loss = 0.3871, Acc = 0.9136\n",
            "\n"
          ]
        },
        {
          "output_type": "stream",
          "name": "stderr",
          "text": [
            "Epoch 9: 100%|██████████| 8/8 [00:01<00:00,  4.09batch/s, accuracy=92.4, loss=0.322]\n"
          ]
        },
        {
          "output_type": "stream",
          "name": "stdout",
          "text": [
            "test: Loss = 0.3745, Acc = 0.9173\n",
            "\n"
          ]
        },
        {
          "output_type": "stream",
          "name": "stderr",
          "text": [
            "Epoch 10: 100%|██████████| 8/8 [00:01<00:00,  4.33batch/s, accuracy=92, loss=0.312]\n"
          ]
        },
        {
          "output_type": "stream",
          "name": "stdout",
          "text": [
            "test: Loss = 0.2852, Acc = 0.9247\n",
            "\n"
          ]
        },
        {
          "output_type": "stream",
          "name": "stderr",
          "text": [
            "Epoch 11: 100%|██████████| 8/8 [00:02<00:00,  3.46batch/s, accuracy=92.4, loss=0.294]\n"
          ]
        },
        {
          "output_type": "stream",
          "name": "stdout",
          "text": [
            "test: Loss = 0.3329, Acc = 0.9167\n",
            "\n"
          ]
        },
        {
          "output_type": "stream",
          "name": "stderr",
          "text": [
            "Epoch 12: 100%|██████████| 8/8 [00:01<00:00,  4.02batch/s, accuracy=92.4, loss=0.265]\n"
          ]
        },
        {
          "output_type": "stream",
          "name": "stdout",
          "text": [
            "test: Loss = 0.3101, Acc = 0.9196\n",
            "\n"
          ]
        },
        {
          "output_type": "stream",
          "name": "stderr",
          "text": [
            "Epoch 13: 100%|██████████| 8/8 [00:02<00:00,  3.06batch/s, accuracy=92.6, loss=0.261]\n"
          ]
        },
        {
          "output_type": "stream",
          "name": "stdout",
          "text": [
            "test: Loss = 0.2926, Acc = 0.9242\n",
            "\n"
          ]
        },
        {
          "output_type": "stream",
          "name": "stderr",
          "text": [
            "Epoch 14: 100%|██████████| 8/8 [00:01<00:00,  4.07batch/s, accuracy=92.4, loss=0.258]\n"
          ]
        },
        {
          "output_type": "stream",
          "name": "stdout",
          "text": [
            "test: Loss = 0.2756, Acc = 0.9242\n",
            "\n"
          ]
        },
        {
          "output_type": "stream",
          "name": "stderr",
          "text": [
            "Epoch 15: 100%|██████████| 8/8 [00:02<00:00,  3.82batch/s, accuracy=92.6, loss=0.247]\n"
          ]
        },
        {
          "output_type": "stream",
          "name": "stdout",
          "text": [
            "test: Loss = 0.419, Acc = 0.918\n",
            "\n"
          ]
        },
        {
          "output_type": "stream",
          "name": "stderr",
          "text": [
            "Epoch 16: 100%|██████████| 8/8 [00:01<00:00,  4.14batch/s, accuracy=88.4, loss=0.454]\n"
          ]
        },
        {
          "output_type": "stream",
          "name": "stdout",
          "text": [
            "test: Loss = 0.4055, Acc = 0.8913\n",
            "\n"
          ]
        },
        {
          "output_type": "stream",
          "name": "stderr",
          "text": [
            "Epoch 17: 100%|██████████| 8/8 [00:01<00:00,  4.07batch/s, accuracy=91.4, loss=0.343]\n"
          ]
        },
        {
          "output_type": "stream",
          "name": "stdout",
          "text": [
            "test: Loss = 0.4069, Acc = 0.9136\n",
            "\n"
          ]
        },
        {
          "output_type": "stream",
          "name": "stderr",
          "text": [
            "Epoch 18: 100%|██████████| 8/8 [00:01<00:00,  4.11batch/s, accuracy=92, loss=0.29]\n"
          ]
        },
        {
          "output_type": "stream",
          "name": "stdout",
          "text": [
            "test: Loss = 0.3062, Acc = 0.9191\n",
            "\n"
          ]
        },
        {
          "output_type": "stream",
          "name": "stderr",
          "text": [
            "Epoch 19: 100%|██████████| 8/8 [00:01<00:00,  4.38batch/s, accuracy=92.8, loss=0.262]\n"
          ]
        },
        {
          "output_type": "stream",
          "name": "stdout",
          "text": [
            "test: Loss = 0.3056, Acc = 0.9213\n",
            "\n"
          ]
        },
        {
          "output_type": "stream",
          "name": "stderr",
          "text": [
            "Epoch 20: 100%|██████████| 8/8 [00:02<00:00,  3.20batch/s, accuracy=93, loss=0.261]\n"
          ]
        },
        {
          "output_type": "stream",
          "name": "stdout",
          "text": [
            "test: Loss = 0.3085, Acc = 0.9296\n",
            "\n"
          ]
        },
        {
          "output_type": "stream",
          "name": "stderr",
          "text": [
            "Epoch 21: 100%|██████████| 8/8 [00:02<00:00,  3.88batch/s, accuracy=93.6, loss=0.259]\n"
          ]
        },
        {
          "output_type": "stream",
          "name": "stdout",
          "text": [
            "test: Loss = 0.2879, Acc = 0.9336\n",
            "\n"
          ]
        },
        {
          "output_type": "stream",
          "name": "stderr",
          "text": [
            "Epoch 22: 100%|██████████| 8/8 [00:02<00:00,  3.37batch/s, accuracy=93.4, loss=0.223]\n"
          ]
        },
        {
          "output_type": "stream",
          "name": "stdout",
          "text": [
            "test: Loss = 0.372, Acc = 0.9224\n",
            "\n"
          ]
        },
        {
          "output_type": "stream",
          "name": "stderr",
          "text": [
            "Epoch 23: 100%|██████████| 8/8 [00:01<00:00,  4.01batch/s, accuracy=93.4, loss=0.242]\n"
          ]
        },
        {
          "output_type": "stream",
          "name": "stdout",
          "text": [
            "test: Loss = 0.2915, Acc = 0.9344\n",
            "\n"
          ]
        },
        {
          "output_type": "stream",
          "name": "stderr",
          "text": [
            "Epoch 24: 100%|██████████| 8/8 [00:01<00:00,  4.05batch/s, accuracy=93, loss=0.24]\n"
          ]
        },
        {
          "output_type": "stream",
          "name": "stdout",
          "text": [
            "test: Loss = 0.3577, Acc = 0.9256\n",
            "\n"
          ]
        },
        {
          "output_type": "stream",
          "name": "stderr",
          "text": [
            "Epoch 25: 100%|██████████| 8/8 [00:01<00:00,  4.00batch/s, accuracy=93.6, loss=0.219]\n"
          ]
        },
        {
          "output_type": "stream",
          "name": "stdout",
          "text": [
            "test: Loss = 0.2733, Acc = 0.9276\n",
            "\n"
          ]
        },
        {
          "output_type": "stream",
          "name": "stderr",
          "text": [
            "Epoch 26: 100%|██████████| 8/8 [00:01<00:00,  4.19batch/s, accuracy=93.6, loss=0.222]\n"
          ]
        },
        {
          "output_type": "stream",
          "name": "stdout",
          "text": [
            "test: Loss = 0.3987, Acc = 0.9193\n",
            "\n"
          ]
        },
        {
          "output_type": "stream",
          "name": "stderr",
          "text": [
            "Epoch 27: 100%|██████████| 8/8 [00:01<00:00,  4.06batch/s, accuracy=93.8, loss=0.209]\n"
          ]
        },
        {
          "output_type": "stream",
          "name": "stdout",
          "text": [
            "test: Loss = 0.3437, Acc = 0.9291\n",
            "\n"
          ]
        },
        {
          "output_type": "stream",
          "name": "stderr",
          "text": [
            "Epoch 28: 100%|██████████| 8/8 [00:01<00:00,  4.39batch/s, accuracy=94.8, loss=0.197]\n"
          ]
        },
        {
          "output_type": "stream",
          "name": "stdout",
          "text": [
            "test: Loss = 0.3492, Acc = 0.9318\n",
            "\n"
          ]
        },
        {
          "output_type": "stream",
          "name": "stderr",
          "text": [
            "Epoch 29: 100%|██████████| 8/8 [00:02<00:00,  3.13batch/s, accuracy=94.2, loss=0.207]\n"
          ]
        },
        {
          "output_type": "stream",
          "name": "stdout",
          "text": [
            "test: Loss = 0.315, Acc = 0.932\n",
            "\n"
          ]
        },
        {
          "output_type": "stream",
          "name": "stderr",
          "text": [
            "Epoch 30: 100%|██████████| 8/8 [00:01<00:00,  4.10batch/s, accuracy=94.4, loss=0.192]\n"
          ]
        },
        {
          "output_type": "stream",
          "name": "stdout",
          "text": [
            "test: Loss = 0.3772, Acc = 0.928\n",
            "\n"
          ]
        },
        {
          "output_type": "stream",
          "name": "stderr",
          "text": [
            "Epoch 31: 100%|██████████| 8/8 [00:02<00:00,  3.21batch/s, accuracy=94, loss=0.2]\n"
          ]
        },
        {
          "output_type": "stream",
          "name": "stdout",
          "text": [
            "test: Loss = 0.2947, Acc = 0.9322\n",
            "\n"
          ]
        },
        {
          "output_type": "stream",
          "name": "stderr",
          "text": [
            "Epoch 32: 100%|██████████| 8/8 [00:02<00:00,  3.94batch/s, accuracy=93.8, loss=0.218]\n"
          ]
        },
        {
          "output_type": "stream",
          "name": "stdout",
          "text": [
            "test: Loss = 0.4836, Acc = 0.9158\n",
            "\n"
          ]
        },
        {
          "output_type": "stream",
          "name": "stderr",
          "text": [
            "Epoch 33: 100%|██████████| 8/8 [00:02<00:00,  3.49batch/s, accuracy=93.6, loss=0.198]\n"
          ]
        },
        {
          "output_type": "stream",
          "name": "stdout",
          "text": [
            "test: Loss = 0.2808, Acc = 0.9329\n",
            "\n"
          ]
        },
        {
          "output_type": "stream",
          "name": "stderr",
          "text": [
            "Epoch 34: 100%|██████████| 8/8 [00:02<00:00,  3.99batch/s, accuracy=94.6, loss=0.178]\n"
          ]
        },
        {
          "output_type": "stream",
          "name": "stdout",
          "text": [
            "test: Loss = 0.313, Acc = 0.9287\n",
            "\n"
          ]
        },
        {
          "output_type": "stream",
          "name": "stderr",
          "text": [
            "Epoch 35: 100%|██████████| 8/8 [00:01<00:00,  4.07batch/s, accuracy=94.6, loss=0.161]\n"
          ]
        },
        {
          "output_type": "stream",
          "name": "stdout",
          "text": [
            "test: Loss = 0.3578, Acc = 0.9282\n",
            "\n"
          ]
        },
        {
          "output_type": "stream",
          "name": "stderr",
          "text": [
            "Epoch 36: 100%|██████████| 8/8 [00:01<00:00,  4.06batch/s, accuracy=95.6, loss=0.165]\n"
          ]
        },
        {
          "output_type": "stream",
          "name": "stdout",
          "text": [
            "test: Loss = 0.3247, Acc = 0.9304\n",
            "\n"
          ]
        },
        {
          "output_type": "stream",
          "name": "stderr",
          "text": [
            "Epoch 37: 100%|██████████| 8/8 [00:01<00:00,  4.13batch/s, accuracy=93, loss=0.201]\n"
          ]
        },
        {
          "output_type": "stream",
          "name": "stdout",
          "text": [
            "test: Loss = 0.5992, Acc = 0.8869\n",
            "\n"
          ]
        },
        {
          "output_type": "stream",
          "name": "stderr",
          "text": [
            "Epoch 38: 100%|██████████| 8/8 [00:02<00:00,  3.32batch/s, accuracy=92.6, loss=0.247]\n"
          ]
        },
        {
          "output_type": "stream",
          "name": "stdout",
          "text": [
            "test: Loss = 0.325, Acc = 0.9269\n",
            "\n"
          ]
        },
        {
          "output_type": "stream",
          "name": "stderr",
          "text": [
            "Epoch 39: 100%|██████████| 8/8 [00:01<00:00,  4.14batch/s, accuracy=93.4, loss=0.204]\n"
          ]
        },
        {
          "output_type": "stream",
          "name": "stdout",
          "text": [
            "test: Loss = 0.3171, Acc = 0.9313\n",
            "\n"
          ]
        }
      ],
      "source": [
        "num_epochs = 40\n",
        "\n",
        "for epoch in range(num_epochs):\n",
        "  # Train\n",
        "  model, loss_train, acc_train = train_one_epoch(model,\n",
        "                                                 train_loader,\n",
        "                                                 loss_fn,\n",
        "                                                 optimizer,\n",
        "                                                 epoch)\n",
        "  # testation\n",
        "  loss_test, acc_test = validation(model,\n",
        "                                     test_loader,\n",
        "                                     loss_fn)\n",
        "\n",
        "\n",
        "  loss_train_hist.append(loss_train)\n",
        "  loss_test_hist.append(loss_test)\n",
        "\n",
        "  acc_train_hist.append(acc_train)\n",
        "  acc_test_hist.append(acc_test)\n",
        "\n",
        "  if loss_test < best_loss_test:\n",
        "\n",
        "    # torch.save(model, f'.../best_model/transformer-model.pt')\n",
        "    # print(f\"save the best model in epoch: {epoch}\")\n",
        "    best_loss_test = loss_test\n",
        "\n",
        "  print(f'test: Loss = {loss_test:.4}, Acc = {acc_test:.4}')\n",
        "  print()\n",
        "\n",
        "  epoch_counter += 1\n",
        "\n",
        "\n"
      ]
    },
    {
      "cell_type": "markdown",
      "metadata": {
        "id": "oK20iNRI3Xxb"
      },
      "source": [
        "# **Plot**"
      ]
    },
    {
      "cell_type": "code",
      "source": [
        "#with Adam Optimizer\n",
        "\n",
        "plt.plot(range(epoch_counter), loss_train_hist, 'r-', label='Train')\n",
        "plt.plot(range(epoch_counter), loss_test_hist, 'b-', label='Test')\n",
        "\n",
        "plt.xlabel('Epoch')\n",
        "plt.ylabel('loss')\n",
        "plt.grid(True)\n",
        "plt.legend()"
      ],
      "metadata": {
        "colab": {
          "base_uri": "https://localhost:8080/",
          "height": 466
        },
        "id": "9oPthgbIveyU",
        "outputId": "19efcd1b-5afc-44eb-a7af-0fb3cda954c2"
      },
      "execution_count": null,
      "outputs": [
        {
          "output_type": "execute_result",
          "data": {
            "text/plain": [
              "<matplotlib.legend.Legend at 0x7b52436acf10>"
            ]
          },
          "metadata": {},
          "execution_count": 78
        },
        {
          "output_type": "display_data",
          "data": {
            "text/plain": [
              "<Figure size 640x480 with 1 Axes>"
            ],
            "image/png": "[encoded data removed]"
          },
          "metadata": {}
        }
      ]
    },
    {
      "cell_type": "code",
      "source": [
        "plt.plot(range(epoch_counter), acc_train_hist, 'r-', label='Train')\n",
        "plt.plot(range(epoch_counter), acc_test_hist, 'b-', label='Test')\n",
        "\n",
        "plt.xlabel('Epoch')\n",
        "plt.ylabel('Acc')\n",
        "plt.grid(True)\n",
        "plt.legend()"
      ],
      "metadata": {
        "colab": {
          "base_uri": "https://localhost:8080/",
          "height": 466
        },
        "id": "kRY1QAQhvhT7",
        "outputId": "682858a3-f0e6-4470-9ed8-b3604e7df1fe"
      },
      "execution_count": null,
      "outputs": [
        {
          "output_type": "execute_result",
          "data": {
            "text/plain": [
              "<matplotlib.legend.Legend at 0x7b52435c21d0>"
            ]
          },
          "metadata": {},
          "execution_count": 79
        },
        {
          "output_type": "display_data",
          "data": {
            "text/plain": [
              "<Figure size 640x480 with 1 Axes>"
            ],
            "image/png": "[encoded data removed]"
          },
          "metadata": {}
        }
      ]
    },
    {
      "cell_type": "code",
      "execution_count": null,
      "metadata": {
        "colab": {
          "base_uri": "https://localhost:8080/",
          "height": 466
        },
        "id": "KYFzTsdIOkVp",
        "outputId": "92ca5ef9-2f39-4bcf-e457-db4d68e0f001"
      },
      "outputs": [
        {
          "output_type": "execute_result",
          "data": {
            "text/plain": [
              "<matplotlib.legend.Legend at 0x7b524355f0a0>"
            ]
          },
          "metadata": {},
          "execution_count": 68
        },
        {
          "output_type": "display_data",
          "data": {
            "text/plain": [
              "<Figure size 640x480 with 1 Axes>"
            ],
            "image/png": "[encoded data removed]"
          },
          "metadata": {}
        }
      ],
      "source": [
        "#with SGD Optimizer\n",
        "\n",
        "plt.plot(range(epoch_counter), loss_train_hist, 'r-', label='Train')\n",
        "plt.plot(range(epoch_counter), loss_test_hist, 'b-', label='Test')\n",
        "\n",
        "plt.xlabel('Epoch')\n",
        "plt.ylabel('loss')\n",
        "plt.grid(True)\n",
        "plt.legend()"
      ]
    },
    {
      "cell_type": "code",
      "execution_count": null,
      "metadata": {
        "colab": {
          "base_uri": "https://localhost:8080/",
          "height": 466
        },
        "id": "dUgt-mWsOqhB",
        "outputId": "3f966b39-9cf1-4f1c-fcd8-0cf6c20b430d"
      },
      "outputs": [
        {
          "output_type": "execute_result",
          "data": {
            "text/plain": [
              "<matplotlib.legend.Legend at 0x7b524355f040>"
            ]
          },
          "metadata": {},
          "execution_count": 69
        },
        {
          "output_type": "display_data",
          "data": {
            "text/plain": [
              "<Figure size 640x480 with 1 Axes>"
            ],
            "image/png": "[encoded data removed]"
          },
          "metadata": {}
        }
      ],
      "source": [
        "plt.plot(range(epoch_counter), acc_train_hist, 'r-', label='Train')\n",
        "plt.plot(range(epoch_counter), acc_test_hist, 'b-', label='Test')\n",
        "\n",
        "plt.xlabel('Epoch')\n",
        "plt.ylabel('Acc')\n",
        "plt.grid(True)\n",
        "plt.legend()"
      ]
    },
    {
      "cell_type": "markdown",
      "source": [
        "## Positional Encoding +Transformer Model"
      ],
      "metadata": {
        "id": "VhgSV2IZ2h01"
      }
    },
    {
      "cell_type": "code",
      "execution_count": null,
      "metadata": {
        "id": "TvEMfQ2GnHA7"
      },
      "outputs": [],
      "source": [
        "class PositionalEncoding(nn.Module):\n",
        "\n",
        "    def __init__(self, d_model, dropout=0.1, max_len=3000):\n",
        "        super().__init__()\n",
        "        self.dropout = nn.Dropout(p=dropout)\n",
        "\n",
        "        position = torch.arange(max_len).unsqueeze(1)\n",
        "        div_term = torch.exp(torch.arange(0, d_model, 2) * (-torch.log(torch.tensor(10000.0)) / d_model))\n",
        "        pe = torch.zeros(max_len, d_model)\n",
        "        pe[:, 0::2] = torch.sin(position * div_term)\n",
        "        pe[:, 1::2] = torch.cos(position * div_term)\n",
        "        self.register_buffer('pe', pe)\n",
        "\n",
        "    def forward(self, x):\n",
        "        x = x + self.pe[:x.size(1)].unsqueeze(0)\n",
        "        return self.dropout(x)\n",
        "\n"
      ]
    },
    {
      "cell_type": "code",
      "execution_count": null,
      "metadata": {
        "id": "5wEfSM9_nDnL"
      },
      "outputs": [],
      "source": [
        "class TransformerModelـPe(nn.Module):\n",
        "    def __init__(self, d_model, nhead, num_enc, dim_feed, dropout, activation):\n",
        "        super().__init__()\n",
        "        self.pos_encoder = PositionalEncoding(d_model)\n",
        "        self.encoder = nn.Transformer(\n",
        "            d_model=d_model,\n",
        "            nhead=nhead,\n",
        "            num_encoder_layers=num_enc,\n",
        "            dim_feedforward=dim_feed,\n",
        "            dropout=dropout,\n",
        "            activation=activation,\n",
        "            batch_first=True\n",
        "        ).encoder\n",
        "\n",
        "\n",
        "        self.fc = nn.LazyLinear(num_cls)\n",
        "        self.linear0 = nn.LazyLinear(d_model)\n",
        "        self.bn0 = nn.LazyBatchNorm1d()\n",
        "\n",
        "    def forward(self, x):\n",
        "\n",
        "        x = self.bn0(self.linear0(x)).relu()\n",
        "        x = self.pos_encoder(x)\n",
        "        y = self.encoder(x)\n",
        "        y = self.fc(y[:, -1])\n",
        "\n",
        "        return y\n"
      ]
    },
    {
      "cell_type": "code",
      "execution_count": null,
      "metadata": {
        "id": "hf2b5x9jpYhX"
      },
      "outputs": [],
      "source": [
        "model = TransformerModelـPe(d_model = 16, nhead = 4,  num_enc = 2, dim_feed = 4*16,dropout = 0.2, activation = 'relu').to(device)\n"
      ]
    },
    {
      "cell_type": "code",
      "execution_count": null,
      "metadata": {
        "id": "GWc-FgdspYhX"
      },
      "outputs": [],
      "source": [
        "optimizer = optim.Adam(model.parameters(), lr=0.01, weight_decay=0.0001)\n",
        "\n",
        "loss_fn = nn.CrossEntropyLoss()"
      ]
    },
    {
      "cell_type": "code",
      "execution_count": null,
      "metadata": {
        "id": "QVfxEEjUpYhY"
      },
      "outputs": [],
      "source": [
        "loss_train_hist = []\n",
        "loss_test_hist = []\n",
        "\n",
        "acc_train_hist = []\n",
        "acc_test_hist = []\n",
        "\n",
        "best_loss_test = torch.inf\n",
        "epoch_counter = 0"
      ]
    },
    {
      "cell_type": "code",
      "execution_count": null,
      "metadata": {
        "colab": {
          "base_uri": "https://localhost:8080/"
        },
        "id": "T93E3DUwpYhY",
        "outputId": "299bea2a-6f07-4b72-ca32-44d9b8083aef"
      },
      "outputs": [
        {
          "output_type": "stream",
          "name": "stderr",
          "text": [
            "Epoch 0: 100%|██████████| 8/8 [00:01<00:00,  4.32batch/s, accuracy=54, loss=1.01]\n"
          ]
        },
        {
          "output_type": "stream",
          "name": "stdout",
          "text": [
            "test: Loss = 0.9395, Acc = 0.5838\n",
            "\n"
          ]
        },
        {
          "output_type": "stream",
          "name": "stderr",
          "text": [
            "Epoch 1: 100%|██████████| 8/8 [00:02<00:00,  3.51batch/s, accuracy=57.4, loss=0.908]\n"
          ]
        },
        {
          "output_type": "stream",
          "name": "stdout",
          "text": [
            "test: Loss = 0.8897, Acc = 0.5838\n",
            "\n"
          ]
        },
        {
          "output_type": "stream",
          "name": "stderr",
          "text": [
            "Epoch 2: 100%|██████████| 8/8 [00:01<00:00,  4.11batch/s, accuracy=73.2, loss=0.724]\n"
          ]
        },
        {
          "output_type": "stream",
          "name": "stdout",
          "text": [
            "test: Loss = 0.4929, Acc = 0.8816\n",
            "\n"
          ]
        },
        {
          "output_type": "stream",
          "name": "stderr",
          "text": [
            "Epoch 3: 100%|██████████| 8/8 [00:02<00:00,  2.85batch/s, accuracy=89.4, loss=0.45]\n"
          ]
        },
        {
          "output_type": "stream",
          "name": "stdout",
          "text": [
            "test: Loss = 0.4027, Acc = 0.9144\n",
            "\n"
          ]
        },
        {
          "output_type": "stream",
          "name": "stderr",
          "text": [
            "Epoch 4: 100%|██████████| 8/8 [00:02<00:00,  3.99batch/s, accuracy=91.8, loss=0.363]\n"
          ]
        },
        {
          "output_type": "stream",
          "name": "stdout",
          "text": [
            "test: Loss = 0.322, Acc = 0.9249\n",
            "\n"
          ]
        },
        {
          "output_type": "stream",
          "name": "stderr",
          "text": [
            "Epoch 5: 100%|██████████| 8/8 [00:02<00:00,  3.66batch/s, accuracy=92.4, loss=0.319]\n"
          ]
        },
        {
          "output_type": "stream",
          "name": "stdout",
          "text": [
            "test: Loss = 0.3223, Acc = 0.9236\n",
            "\n"
          ]
        },
        {
          "output_type": "stream",
          "name": "stderr",
          "text": [
            "Epoch 6: 100%|██████████| 8/8 [00:01<00:00,  4.39batch/s, accuracy=92.2, loss=0.295]\n"
          ]
        },
        {
          "output_type": "stream",
          "name": "stdout",
          "text": [
            "test: Loss = 0.3167, Acc = 0.9204\n",
            "\n"
          ]
        },
        {
          "output_type": "stream",
          "name": "stderr",
          "text": [
            "Epoch 7: 100%|██████████| 8/8 [00:01<00:00,  4.39batch/s, accuracy=92.8, loss=0.271]\n"
          ]
        },
        {
          "output_type": "stream",
          "name": "stdout",
          "text": [
            "test: Loss = 0.3214, Acc = 0.9216\n",
            "\n"
          ]
        },
        {
          "output_type": "stream",
          "name": "stderr",
          "text": [
            "Epoch 8: 100%|██████████| 8/8 [00:02<00:00,  2.86batch/s, accuracy=93.4, loss=0.25]\n"
          ]
        },
        {
          "output_type": "stream",
          "name": "stdout",
          "text": [
            "test: Loss = 0.3086, Acc = 0.9253\n",
            "\n"
          ]
        },
        {
          "output_type": "stream",
          "name": "stderr",
          "text": [
            "Epoch 9: 100%|██████████| 8/8 [00:01<00:00,  4.19batch/s, accuracy=92.8, loss=0.27]\n"
          ]
        },
        {
          "output_type": "stream",
          "name": "stdout",
          "text": [
            "test: Loss = 0.2996, Acc = 0.9236\n",
            "\n"
          ]
        },
        {
          "output_type": "stream",
          "name": "stderr",
          "text": [
            "Epoch 10: 100%|██████████| 8/8 [00:02<00:00,  3.12batch/s, accuracy=92.6, loss=0.265]\n"
          ]
        },
        {
          "output_type": "stream",
          "name": "stdout",
          "text": [
            "test: Loss = 0.356, Acc = 0.9218\n",
            "\n"
          ]
        },
        {
          "output_type": "stream",
          "name": "stderr",
          "text": [
            "Epoch 11: 100%|██████████| 8/8 [00:01<00:00,  4.11batch/s, accuracy=93.2, loss=0.253]\n"
          ]
        },
        {
          "output_type": "stream",
          "name": "stdout",
          "text": [
            "test: Loss = 0.3461, Acc = 0.9207\n",
            "\n"
          ]
        },
        {
          "output_type": "stream",
          "name": "stderr",
          "text": [
            "Epoch 12: 100%|██████████| 8/8 [00:01<00:00,  4.41batch/s, accuracy=93, loss=0.252]\n"
          ]
        },
        {
          "output_type": "stream",
          "name": "stdout",
          "text": [
            "test: Loss = 0.2891, Acc = 0.9242\n",
            "\n"
          ]
        },
        {
          "output_type": "stream",
          "name": "stderr",
          "text": [
            "Epoch 13: 100%|██████████| 8/8 [00:01<00:00,  4.27batch/s, accuracy=94, loss=0.215]\n"
          ]
        },
        {
          "output_type": "stream",
          "name": "stdout",
          "text": [
            "test: Loss = 0.3327, Acc = 0.9233\n",
            "\n"
          ]
        },
        {
          "output_type": "stream",
          "name": "stderr",
          "text": [
            "Epoch 14: 100%|██████████| 8/8 [00:01<00:00,  4.27batch/s, accuracy=93.6, loss=0.233]\n"
          ]
        },
        {
          "output_type": "stream",
          "name": "stdout",
          "text": [
            "test: Loss = 0.3214, Acc = 0.9264\n",
            "\n"
          ]
        },
        {
          "output_type": "stream",
          "name": "stderr",
          "text": [
            "Epoch 15: 100%|██████████| 8/8 [00:02<00:00,  3.87batch/s, accuracy=92.8, loss=0.253]\n"
          ]
        },
        {
          "output_type": "stream",
          "name": "stdout",
          "text": [
            "test: Loss = 0.3311, Acc = 0.9302\n",
            "\n"
          ]
        },
        {
          "output_type": "stream",
          "name": "stderr",
          "text": [
            "Epoch 16: 100%|██████████| 8/8 [00:01<00:00,  4.55batch/s, accuracy=93.8, loss=0.23]\n"
          ]
        },
        {
          "output_type": "stream",
          "name": "stdout",
          "text": [
            "test: Loss = 0.2913, Acc = 0.9367\n",
            "\n"
          ]
        },
        {
          "output_type": "stream",
          "name": "stderr",
          "text": [
            "Epoch 17: 100%|██████████| 8/8 [00:02<00:00,  3.33batch/s, accuracy=95.4, loss=0.197]\n"
          ]
        },
        {
          "output_type": "stream",
          "name": "stdout",
          "text": [
            "test: Loss = 0.2719, Acc = 0.9273\n",
            "\n"
          ]
        },
        {
          "output_type": "stream",
          "name": "stderr",
          "text": [
            "Epoch 18: 100%|██████████| 8/8 [00:02<00:00,  3.93batch/s, accuracy=93.6, loss=0.196]\n"
          ]
        },
        {
          "output_type": "stream",
          "name": "stdout",
          "text": [
            "test: Loss = 0.3112, Acc = 0.9356\n",
            "\n"
          ]
        },
        {
          "output_type": "stream",
          "name": "stderr",
          "text": [
            "Epoch 19: 100%|██████████| 8/8 [00:02<00:00,  3.34batch/s, accuracy=93.4, loss=0.229]\n"
          ]
        },
        {
          "output_type": "stream",
          "name": "stdout",
          "text": [
            "test: Loss = 0.3128, Acc = 0.9242\n",
            "\n"
          ]
        },
        {
          "output_type": "stream",
          "name": "stderr",
          "text": [
            "Epoch 20: 100%|██████████| 8/8 [00:01<00:00,  4.07batch/s, accuracy=92.2, loss=0.305]\n"
          ]
        },
        {
          "output_type": "stream",
          "name": "stdout",
          "text": [
            "test: Loss = 0.2682, Acc = 0.926\n",
            "\n"
          ]
        },
        {
          "output_type": "stream",
          "name": "stderr",
          "text": [
            "Epoch 21: 100%|██████████| 8/8 [00:01<00:00,  4.42batch/s, accuracy=93.4, loss=0.245]\n"
          ]
        },
        {
          "output_type": "stream",
          "name": "stdout",
          "text": [
            "test: Loss = 0.2988, Acc = 0.9364\n",
            "\n"
          ]
        },
        {
          "output_type": "stream",
          "name": "stderr",
          "text": [
            "Epoch 22: 100%|██████████| 8/8 [00:01<00:00,  4.65batch/s, accuracy=94, loss=0.228]\n"
          ]
        },
        {
          "output_type": "stream",
          "name": "stdout",
          "text": [
            "test: Loss = 0.2844, Acc = 0.9338\n",
            "\n"
          ]
        },
        {
          "output_type": "stream",
          "name": "stderr",
          "text": [
            "Epoch 23: 100%|██████████| 8/8 [00:01<00:00,  4.32batch/s, accuracy=93.8, loss=0.221]\n"
          ]
        },
        {
          "output_type": "stream",
          "name": "stdout",
          "text": [
            "test: Loss = 0.3168, Acc = 0.9311\n",
            "\n"
          ]
        },
        {
          "output_type": "stream",
          "name": "stderr",
          "text": [
            "Epoch 24: 100%|██████████| 8/8 [00:02<00:00,  3.44batch/s, accuracy=94.2, loss=0.196]\n"
          ]
        },
        {
          "output_type": "stream",
          "name": "stdout",
          "text": [
            "test: Loss = 0.2762, Acc = 0.9364\n",
            "\n"
          ]
        },
        {
          "output_type": "stream",
          "name": "stderr",
          "text": [
            "Epoch 25: 100%|██████████| 8/8 [00:01<00:00,  4.17batch/s, accuracy=94, loss=0.195]\n"
          ]
        },
        {
          "output_type": "stream",
          "name": "stdout",
          "text": [
            "test: Loss = 0.3019, Acc = 0.9307\n",
            "\n"
          ]
        },
        {
          "output_type": "stream",
          "name": "stderr",
          "text": [
            "Epoch 26: 100%|██████████| 8/8 [00:02<00:00,  3.08batch/s, accuracy=94.6, loss=0.203]\n"
          ]
        },
        {
          "output_type": "stream",
          "name": "stdout",
          "text": [
            "test: Loss = 0.3176, Acc = 0.9342\n",
            "\n"
          ]
        },
        {
          "output_type": "stream",
          "name": "stderr",
          "text": [
            "Epoch 27: 100%|██████████| 8/8 [00:01<00:00,  4.17batch/s, accuracy=94.2, loss=0.233]\n"
          ]
        },
        {
          "output_type": "stream",
          "name": "stdout",
          "text": [
            "test: Loss = 0.3812, Acc = 0.9107\n",
            "\n"
          ]
        },
        {
          "output_type": "stream",
          "name": "stderr",
          "text": [
            "Epoch 28: 100%|██████████| 8/8 [00:02<00:00,  3.86batch/s, accuracy=93.6, loss=0.274]\n"
          ]
        },
        {
          "output_type": "stream",
          "name": "stdout",
          "text": [
            "test: Loss = 0.3437, Acc = 0.9244\n",
            "\n"
          ]
        },
        {
          "output_type": "stream",
          "name": "stderr",
          "text": [
            "Epoch 29: 100%|██████████| 8/8 [00:01<00:00,  4.09batch/s, accuracy=93.8, loss=0.237]\n"
          ]
        },
        {
          "output_type": "stream",
          "name": "stdout",
          "text": [
            "test: Loss = 0.3395, Acc = 0.9302\n",
            "\n"
          ]
        },
        {
          "output_type": "stream",
          "name": "stderr",
          "text": [
            "Epoch 30: 100%|██████████| 8/8 [00:01<00:00,  4.31batch/s, accuracy=94.2, loss=0.23]\n"
          ]
        },
        {
          "output_type": "stream",
          "name": "stdout",
          "text": [
            "test: Loss = 0.2731, Acc = 0.9271\n",
            "\n"
          ]
        },
        {
          "output_type": "stream",
          "name": "stderr",
          "text": [
            "Epoch 31: 100%|██████████| 8/8 [00:01<00:00,  4.44batch/s, accuracy=94, loss=0.21]\n"
          ]
        },
        {
          "output_type": "stream",
          "name": "stdout",
          "text": [
            "test: Loss = 0.3783, Acc = 0.9071\n",
            "\n"
          ]
        },
        {
          "output_type": "stream",
          "name": "stderr",
          "text": [
            "Epoch 32: 100%|██████████| 8/8 [00:02<00:00,  3.96batch/s, accuracy=93.8, loss=0.219]\n"
          ]
        },
        {
          "output_type": "stream",
          "name": "stdout",
          "text": [
            "test: Loss = 0.2659, Acc = 0.9322\n",
            "\n"
          ]
        },
        {
          "output_type": "stream",
          "name": "stderr",
          "text": [
            "Epoch 33: 100%|██████████| 8/8 [00:02<00:00,  3.33batch/s, accuracy=94, loss=0.207]\n"
          ]
        },
        {
          "output_type": "stream",
          "name": "stdout",
          "text": [
            "test: Loss = 0.3221, Acc = 0.9344\n",
            "\n"
          ]
        },
        {
          "output_type": "stream",
          "name": "stderr",
          "text": [
            "Epoch 34: 100%|██████████| 8/8 [00:01<00:00,  4.28batch/s, accuracy=95, loss=0.182]\n"
          ]
        },
        {
          "output_type": "stream",
          "name": "stdout",
          "text": [
            "test: Loss = 0.3008, Acc = 0.934\n",
            "\n"
          ]
        },
        {
          "output_type": "stream",
          "name": "stderr",
          "text": [
            "Epoch 35: 100%|██████████| 8/8 [00:02<00:00,  3.47batch/s, accuracy=95.4, loss=0.182]\n"
          ]
        },
        {
          "output_type": "stream",
          "name": "stdout",
          "text": [
            "test: Loss = 0.3594, Acc = 0.9296\n",
            "\n"
          ]
        },
        {
          "output_type": "stream",
          "name": "stderr",
          "text": [
            "Epoch 36: 100%|██████████| 8/8 [00:01<00:00,  4.10batch/s, accuracy=94.6, loss=0.217]\n"
          ]
        },
        {
          "output_type": "stream",
          "name": "stdout",
          "text": [
            "test: Loss = 0.2865, Acc = 0.9376\n",
            "\n"
          ]
        },
        {
          "output_type": "stream",
          "name": "stderr",
          "text": [
            "Epoch 37: 100%|██████████| 8/8 [00:02<00:00,  3.73batch/s, accuracy=94.6, loss=0.199]\n"
          ]
        },
        {
          "output_type": "stream",
          "name": "stdout",
          "text": [
            "test: Loss = 0.2614, Acc = 0.9389\n",
            "\n"
          ]
        },
        {
          "output_type": "stream",
          "name": "stderr",
          "text": [
            "Epoch 38: 100%|██████████| 8/8 [00:01<00:00,  4.33batch/s, accuracy=95.4, loss=0.173]\n"
          ]
        },
        {
          "output_type": "stream",
          "name": "stdout",
          "text": [
            "test: Loss = 0.3788, Acc = 0.9316\n",
            "\n"
          ]
        },
        {
          "output_type": "stream",
          "name": "stderr",
          "text": [
            "Epoch 39: 100%|██████████| 8/8 [00:01<00:00,  4.20batch/s, accuracy=94.8, loss=0.188]\n"
          ]
        },
        {
          "output_type": "stream",
          "name": "stdout",
          "text": [
            "test: Loss = 0.3292, Acc = 0.936\n",
            "\n"
          ]
        }
      ],
      "source": [
        "num_epochs = 40\n",
        "\n",
        "for epoch in range(num_epochs):\n",
        "  # Train\n",
        "  model, loss_train, acc_train = train_one_epoch(model,\n",
        "                                                 train_loader,\n",
        "                                                 loss_fn,\n",
        "                                                 optimizer,\n",
        "                                                 epoch)\n",
        "  # Validation\n",
        "  loss_test, acc_test = validation(model,\n",
        "                                     test_loader,\n",
        "                                     loss_fn)\n",
        "\n",
        "\n",
        "  loss_train_hist.append(loss_train)\n",
        "  loss_test_hist.append(loss_test)\n",
        "\n",
        "  acc_train_hist.append(acc_train)\n",
        "  acc_test_hist.append(acc_test)\n",
        "\n",
        "  if loss_test < best_loss_test:\n",
        "\n",
        "    # torch.save(model, f'.../best_model/transformer-model.pt')\n",
        "    best_loss_test = loss_test\n",
        "\n",
        "  print(f'test: Loss = {loss_test:.4}, Acc = {acc_test:.4}')\n",
        "  print()\n",
        "\n",
        "  epoch_counter += 1\n",
        "\n",
        "\n"
      ]
    },
    {
      "cell_type": "code",
      "source": [
        "plt.plot(range(epoch_counter), loss_train_hist, 'r-', label='Train')\n",
        "plt.plot(range(epoch_counter), loss_valid_hist, 'b-', label='Validation')\n",
        "\n",
        "plt.xlabel('Epoch')\n",
        "plt.ylabel('loss')\n",
        "plt.grid(True)\n",
        "plt.legend()"
      ],
      "metadata": {
        "colab": {
          "base_uri": "https://localhost:8080/",
          "height": 466
        },
        "id": "deDk6ynxxx9F",
        "outputId": "40832181-36c0-4969-a106-42e90eba1774"
      },
      "execution_count": null,
      "outputs": [
        {
          "output_type": "execute_result",
          "data": {
            "text/plain": [
              "<matplotlib.legend.Legend at 0x7b524325b250>"
            ]
          },
          "metadata": {},
          "execution_count": 97
        },
        {
          "output_type": "display_data",
          "data": {
            "text/plain": [
              "<Figure size 640x480 with 1 Axes>"
            ],
            "image/png": "[encoded data removed]"
          },
          "metadata": {}
        }
      ]
    },
    {
      "cell_type": "code",
      "execution_count": null,
      "metadata": {
        "colab": {
          "base_uri": "https://localhost:8080/",
          "height": 466
        },
        "id": "KMk2qk3upYhY",
        "outputId": "3122ec6f-62e7-4b03-907e-85b1b662a515"
      },
      "outputs": [
        {
          "output_type": "execute_result",
          "data": {
            "text/plain": [
              "<matplotlib.legend.Legend at 0x7b524322d540>"
            ]
          },
          "metadata": {},
          "execution_count": 98
        },
        {
          "output_type": "display_data",
          "data": {
            "text/plain": [
              "<Figure size 640x480 with 1 Axes>"
            ],
            "image/png": "[encoded data removed]"
          },
          "metadata": {}
        }
      ],
      "source": [
        "plt.plot(range(epoch_counter), acc_train_hist, 'r-', label='Train')\n",
        "plt.plot(range(epoch_counter), acc_test_hist, 'b-', label='Validation')\n",
        "\n",
        "plt.xlabel('Epoch')\n",
        "plt.ylabel('Acc')\n",
        "plt.grid(True)\n",
        "plt.legend()"
      ]
    },
    {
      "cell_type": "markdown",
      "source": [
        "## CNN + Positional Encoding + Transformer Model"
      ],
      "metadata": {
        "id": "n8x-0IpW2tSe"
      }
    },
    {
      "cell_type": "code",
      "source": [
        "class PositionalEncoding(nn.Module):\n",
        "    def __init__(self, d_model, dropout=0.1, max_len=5000):\n",
        "        super().__init__()\n",
        "        self.dropout = nn.Dropout(p=dropout)\n",
        "\n",
        "        position = torch.arange(max_len).unsqueeze(1)\n",
        "        div_term = torch.exp(torch.arange(0, d_model, 2) * (-math.log(10000.0) / d_model))\n",
        "        pe = torch.zeros(max_len, d_model)\n",
        "        pe[:, 0::2] = torch.sin(position * div_term)\n",
        "        pe[:, 1::2] = torch.cos(position * div_term)\n",
        "        self.register_buffer('pe', pe)\n",
        "\n",
        "    def forward(self, x):\n",
        "        x = x + self.pe[:x.size(1), :]\n",
        "        return self.dropout(x)\n",
        "\n",
        "class CNN_Transformer_Model(nn.Module):\n",
        "    def __init__(self, d_model, nhead, num_enc, dim_feed, dropout, activation, num_cls):\n",
        "        super(CNN_Transformer_Model, self).__init__()\n",
        "\n",
        "        # CNN layers\n",
        "        self.cnn = nn.Sequential(\n",
        "            nn.Conv1d(in_channels=1, out_channels=16, kernel_size=3, padding=1),\n",
        "            nn.BatchNorm1d(16),\n",
        "            nn.ReLU(),\n",
        "            nn.Conv1d(16, 32, kernel_size=3, padding=1),\n",
        "            nn.BatchNorm1d(32),\n",
        "            nn.ReLU(),\n",
        "            nn.Conv1d(32, d_model, kernel_size=3, padding=1),\n",
        "            nn.BatchNorm1d(d_model),\n",
        "            nn.ReLU()\n",
        "        )\n",
        "\n",
        "        # Positional Encoding\n",
        "        self.pos_encoder = PositionalEncoding(d_model, dropout)\n",
        "\n",
        "        # Transformer encoder\n",
        "        self.encoder = nn.TransformerEncoder(\n",
        "            nn.TransformerEncoderLayer(d_model, nhead, dim_feed, dropout, activation),\n",
        "            num_layers=num_enc\n",
        "        )\n",
        "\n",
        "        # Fully connected layer for classification\n",
        "        self.fc = nn.Linear(d_model, num_cls)\n",
        "\n",
        "    def forward(self, x):\n",
        "        # CNN expects input in the form (batch_size, in_channels, sequence_length)\n",
        "        x = x.permute(0, 2, 1)\n",
        "        x = self.cnn(x)\n",
        "\n",
        "\n",
        "        x = x.permute(0, 2, 1)\n",
        "\n",
        "        # اضافه کردن Positional Encoding\n",
        "        x = self.pos_encoder(x)\n",
        "\n",
        "        # عبور از ترنسفورمر\n",
        "        x = self.encoder(x)\n",
        "\n",
        "        # استفاده از آخرین زمان برای طبقه‌بندی\n",
        "        x = self.fc(x[:, -1])\n",
        "\n",
        "        return x\n"
      ],
      "metadata": {
        "id": "8KVpbuM_yIhE"
      },
      "execution_count": null,
      "outputs": []
    },
    {
      "cell_type": "code",
      "source": [
        "model = CNN_Transformer_Model(d_model=32, nhead=4, num_enc=2, dim_feed=32*4, dropout=0.2, activation='relu', num_cls=5).to(device)"
      ],
      "metadata": {
        "id": "uTCNiqjhyLaU",
        "colab": {
          "base_uri": "https://localhost:8080/"
        },
        "outputId": "a1f89e10-5938-4acd-f7ad-772b873fc27b"
      },
      "execution_count": null,
      "outputs": [
        {
          "output_type": "stream",
          "name": "stderr",
          "text": [
            "/usr/local/lib/python3.10/dist-packages/torch/nn/modules/transformer.py:307: UserWarning: enable_nested_tensor is True, but self.use_nested_tensor is False because encoder_layer.self_attn.batch_first was not True(use batch_first for better inference performance)\n",
            "  warnings.warn(f\"enable_nested_tensor is True, but self.use_nested_tensor is False because {why_not_sparsity_fast_path}\")\n"
          ]
        }
      ]
    },
    {
      "cell_type": "code",
      "execution_count": null,
      "metadata": {
        "id": "926LxSJnygvj"
      },
      "outputs": [],
      "source": [
        "optimizer = optim.Adam(model.parameters(), lr=0.001, weight_decay=0.0001)\n",
        "\n",
        "loss_fn = nn.CrossEntropyLoss()"
      ]
    },
    {
      "cell_type": "code",
      "execution_count": null,
      "metadata": {
        "id": "sEyK8Avyygvk"
      },
      "outputs": [],
      "source": [
        "loss_train_hist = []\n",
        "loss_test_hist = []\n",
        "\n",
        "acc_train_hist = []\n",
        "acc_test_hist = []\n",
        "\n",
        "best_loss_test = torch.inf\n",
        "epoch_counter = 0"
      ]
    },
    {
      "cell_type": "code",
      "execution_count": null,
      "metadata": {
        "colab": {
          "base_uri": "https://localhost:8080/"
        },
        "outputId": "a837d3bf-d060-468b-ead0-77fce3ff56bb",
        "id": "XTpMfMfGygvk"
      },
      "outputs": [
        {
          "output_type": "stream",
          "name": "stderr",
          "text": [
            "Epoch 0: 100%|██████████| 8/8 [00:01<00:00,  5.40batch/s, accuracy=55, loss=1.16]\n"
          ]
        },
        {
          "output_type": "stream",
          "name": "stdout",
          "text": [
            "test: Loss = 0.9641, Acc = 0.5838\n",
            "\n"
          ]
        },
        {
          "output_type": "stream",
          "name": "stderr",
          "text": [
            "Epoch 1: 100%|██████████| 8/8 [00:01<00:00,  5.62batch/s, accuracy=85.6, loss=0.608]\n"
          ]
        },
        {
          "output_type": "stream",
          "name": "stdout",
          "text": [
            "test: Loss = 0.7025, Acc = 0.7184\n",
            "\n"
          ]
        },
        {
          "output_type": "stream",
          "name": "stderr",
          "text": [
            "Epoch 2: 100%|██████████| 8/8 [00:01<00:00,  5.01batch/s, accuracy=89.4, loss=0.455]\n"
          ]
        },
        {
          "output_type": "stream",
          "name": "stdout",
          "text": [
            "test: Loss = 0.5174, Acc = 0.8618\n",
            "\n"
          ]
        },
        {
          "output_type": "stream",
          "name": "stderr",
          "text": [
            "Epoch 3: 100%|██████████| 8/8 [00:01<00:00,  5.72batch/s, accuracy=90.2, loss=0.388]\n"
          ]
        },
        {
          "output_type": "stream",
          "name": "stdout",
          "text": [
            "test: Loss = 0.4214, Acc = 0.898\n",
            "\n"
          ]
        },
        {
          "output_type": "stream",
          "name": "stderr",
          "text": [
            "Epoch 4: 100%|██████████| 8/8 [00:01<00:00,  4.88batch/s, accuracy=92, loss=0.345]\n"
          ]
        },
        {
          "output_type": "stream",
          "name": "stdout",
          "text": [
            "test: Loss = 0.3828, Acc = 0.91\n",
            "\n"
          ]
        },
        {
          "output_type": "stream",
          "name": "stderr",
          "text": [
            "Epoch 5: 100%|██████████| 8/8 [00:01<00:00,  5.58batch/s, accuracy=92.2, loss=0.33]\n"
          ]
        },
        {
          "output_type": "stream",
          "name": "stdout",
          "text": [
            "test: Loss = 0.383, Acc = 0.9089\n",
            "\n"
          ]
        },
        {
          "output_type": "stream",
          "name": "stderr",
          "text": [
            "Epoch 6: 100%|██████████| 8/8 [00:01<00:00,  5.51batch/s, accuracy=92.4, loss=0.315]\n"
          ]
        },
        {
          "output_type": "stream",
          "name": "stdout",
          "text": [
            "test: Loss = 0.372, Acc = 0.9109\n",
            "\n"
          ]
        },
        {
          "output_type": "stream",
          "name": "stderr",
          "text": [
            "Epoch 7: 100%|██████████| 8/8 [00:02<00:00,  3.92batch/s, accuracy=92.4, loss=0.316]\n"
          ]
        },
        {
          "output_type": "stream",
          "name": "stdout",
          "text": [
            "test: Loss = 0.364, Acc = 0.9111\n",
            "\n"
          ]
        },
        {
          "output_type": "stream",
          "name": "stderr",
          "text": [
            "Epoch 8: 100%|██████████| 8/8 [00:01<00:00,  5.61batch/s, accuracy=93, loss=0.297]\n"
          ]
        },
        {
          "output_type": "stream",
          "name": "stdout",
          "text": [
            "test: Loss = 0.3571, Acc = 0.9124\n",
            "\n"
          ]
        },
        {
          "output_type": "stream",
          "name": "stderr",
          "text": [
            "Epoch 9: 100%|██████████| 8/8 [00:01<00:00,  5.59batch/s, accuracy=92.6, loss=0.29]\n"
          ]
        },
        {
          "output_type": "stream",
          "name": "stdout",
          "text": [
            "test: Loss = 0.3436, Acc = 0.9124\n",
            "\n"
          ]
        },
        {
          "output_type": "stream",
          "name": "stderr",
          "text": [
            "Epoch 10: 100%|██████████| 8/8 [00:01<00:00,  4.86batch/s, accuracy=92.8, loss=0.268]\n"
          ]
        },
        {
          "output_type": "stream",
          "name": "stdout",
          "text": [
            "test: Loss = 0.3699, Acc = 0.9069\n",
            "\n"
          ]
        },
        {
          "output_type": "stream",
          "name": "stderr",
          "text": [
            "Epoch 11: 100%|██████████| 8/8 [00:01<00:00,  5.45batch/s, accuracy=93, loss=0.281]\n"
          ]
        },
        {
          "output_type": "stream",
          "name": "stdout",
          "text": [
            "test: Loss = 0.3329, Acc = 0.9131\n",
            "\n"
          ]
        },
        {
          "output_type": "stream",
          "name": "stderr",
          "text": [
            "Epoch 12: 100%|██████████| 8/8 [00:01<00:00,  4.94batch/s, accuracy=92.8, loss=0.263]\n"
          ]
        },
        {
          "output_type": "stream",
          "name": "stdout",
          "text": [
            "test: Loss = 0.3148, Acc = 0.9164\n",
            "\n"
          ]
        },
        {
          "output_type": "stream",
          "name": "stderr",
          "text": [
            "Epoch 13: 100%|██████████| 8/8 [00:01<00:00,  5.70batch/s, accuracy=93.4, loss=0.235]\n"
          ]
        },
        {
          "output_type": "stream",
          "name": "stdout",
          "text": [
            "test: Loss = 0.3323, Acc = 0.9167\n",
            "\n"
          ]
        },
        {
          "output_type": "stream",
          "name": "stderr",
          "text": [
            "Epoch 14: 100%|██████████| 8/8 [00:01<00:00,  5.57batch/s, accuracy=94.2, loss=0.242]\n"
          ]
        },
        {
          "output_type": "stream",
          "name": "stdout",
          "text": [
            "test: Loss = 0.3199, Acc = 0.916\n",
            "\n"
          ]
        },
        {
          "output_type": "stream",
          "name": "stderr",
          "text": [
            "Epoch 15: 100%|██████████| 8/8 [00:01<00:00,  4.03batch/s, accuracy=93.8, loss=0.238]\n"
          ]
        },
        {
          "output_type": "stream",
          "name": "stdout",
          "text": [
            "test: Loss = 0.3305, Acc = 0.9167\n",
            "\n"
          ]
        },
        {
          "output_type": "stream",
          "name": "stderr",
          "text": [
            "Epoch 16: 100%|██████████| 8/8 [00:01<00:00,  5.41batch/s, accuracy=93.6, loss=0.231]\n"
          ]
        },
        {
          "output_type": "stream",
          "name": "stdout",
          "text": [
            "test: Loss = 0.3679, Acc = 0.9122\n",
            "\n"
          ]
        },
        {
          "output_type": "stream",
          "name": "stderr",
          "text": [
            "Epoch 17: 100%|██████████| 8/8 [00:01<00:00,  5.29batch/s, accuracy=93.6, loss=0.228]\n"
          ]
        },
        {
          "output_type": "stream",
          "name": "stdout",
          "text": [
            "test: Loss = 0.3267, Acc = 0.9162\n",
            "\n"
          ]
        },
        {
          "output_type": "stream",
          "name": "stderr",
          "text": [
            "Epoch 18: 100%|██████████| 8/8 [00:01<00:00,  4.48batch/s, accuracy=94.4, loss=0.206]\n"
          ]
        },
        {
          "output_type": "stream",
          "name": "stdout",
          "text": [
            "test: Loss = 0.32, Acc = 0.9173\n",
            "\n"
          ]
        },
        {
          "output_type": "stream",
          "name": "stderr",
          "text": [
            "Epoch 19: 100%|██████████| 8/8 [00:01<00:00,  5.32batch/s, accuracy=93.8, loss=0.215]\n"
          ]
        },
        {
          "output_type": "stream",
          "name": "stdout",
          "text": [
            "test: Loss = 0.3308, Acc = 0.9167\n",
            "\n"
          ]
        },
        {
          "output_type": "stream",
          "name": "stderr",
          "text": [
            "Epoch 20: 100%|██████████| 8/8 [00:01<00:00,  5.25batch/s, accuracy=93.6, loss=0.225]\n"
          ]
        },
        {
          "output_type": "stream",
          "name": "stdout",
          "text": [
            "test: Loss = 0.3473, Acc = 0.9116\n",
            "\n"
          ]
        },
        {
          "output_type": "stream",
          "name": "stderr",
          "text": [
            "Epoch 21: 100%|██████████| 8/8 [00:01<00:00,  5.56batch/s, accuracy=93.8, loss=0.211]\n"
          ]
        },
        {
          "output_type": "stream",
          "name": "stdout",
          "text": [
            "test: Loss = 0.3137, Acc = 0.9207\n",
            "\n"
          ]
        },
        {
          "output_type": "stream",
          "name": "stderr",
          "text": [
            "Epoch 22: 100%|██████████| 8/8 [00:01<00:00,  5.53batch/s, accuracy=94, loss=0.205]\n"
          ]
        },
        {
          "output_type": "stream",
          "name": "stdout",
          "text": [
            "test: Loss = 0.3459, Acc = 0.914\n",
            "\n"
          ]
        },
        {
          "output_type": "stream",
          "name": "stderr",
          "text": [
            "Epoch 23: 100%|██████████| 8/8 [00:01<00:00,  4.01batch/s, accuracy=94.4, loss=0.21]\n"
          ]
        },
        {
          "output_type": "stream",
          "name": "stdout",
          "text": [
            "test: Loss = 0.3323, Acc = 0.9167\n",
            "\n"
          ]
        },
        {
          "output_type": "stream",
          "name": "stderr",
          "text": [
            "Epoch 24: 100%|██████████| 8/8 [00:01<00:00,  5.47batch/s, accuracy=94.2, loss=0.197]\n"
          ]
        },
        {
          "output_type": "stream",
          "name": "stdout",
          "text": [
            "test: Loss = 0.3287, Acc = 0.9156\n",
            "\n"
          ]
        },
        {
          "output_type": "stream",
          "name": "stderr",
          "text": [
            "Epoch 25: 100%|██████████| 8/8 [00:01<00:00,  5.58batch/s, accuracy=94.2, loss=0.179]\n"
          ]
        },
        {
          "output_type": "stream",
          "name": "stdout",
          "text": [
            "test: Loss = 0.3183, Acc = 0.9204\n",
            "\n"
          ]
        },
        {
          "output_type": "stream",
          "name": "stderr",
          "text": [
            "Epoch 26: 100%|██████████| 8/8 [00:01<00:00,  4.08batch/s, accuracy=94.4, loss=0.203]\n"
          ]
        },
        {
          "output_type": "stream",
          "name": "stdout",
          "text": [
            "test: Loss = 0.3262, Acc = 0.9189\n",
            "\n"
          ]
        },
        {
          "output_type": "stream",
          "name": "stderr",
          "text": [
            "Epoch 27: 100%|██████████| 8/8 [00:01<00:00,  5.69batch/s, accuracy=94.8, loss=0.201]\n"
          ]
        },
        {
          "output_type": "stream",
          "name": "stdout",
          "text": [
            "test: Loss = 0.3382, Acc = 0.9171\n",
            "\n"
          ]
        },
        {
          "output_type": "stream",
          "name": "stderr",
          "text": [
            "Epoch 28: 100%|██████████| 8/8 [00:01<00:00,  5.38batch/s, accuracy=94.6, loss=0.186]\n"
          ]
        },
        {
          "output_type": "stream",
          "name": "stdout",
          "text": [
            "test: Loss = 0.3231, Acc = 0.9176\n",
            "\n"
          ]
        },
        {
          "output_type": "stream",
          "name": "stderr",
          "text": [
            "Epoch 29: 100%|██████████| 8/8 [00:01<00:00,  4.16batch/s, accuracy=94.4, loss=0.18]\n"
          ]
        },
        {
          "output_type": "stream",
          "name": "stdout",
          "text": [
            "test: Loss = 0.3347, Acc = 0.9184\n",
            "\n"
          ]
        },
        {
          "output_type": "stream",
          "name": "stderr",
          "text": [
            "Epoch 30: 100%|██████████| 8/8 [00:01<00:00,  5.47batch/s, accuracy=94.6, loss=0.176]\n"
          ]
        },
        {
          "output_type": "stream",
          "name": "stdout",
          "text": [
            "test: Loss = 0.3296, Acc = 0.9182\n",
            "\n"
          ]
        },
        {
          "output_type": "stream",
          "name": "stderr",
          "text": [
            "Epoch 31: 100%|██████████| 8/8 [00:02<00:00,  3.91batch/s, accuracy=95, loss=0.161]\n"
          ]
        },
        {
          "output_type": "stream",
          "name": "stdout",
          "text": [
            "test: Loss = 0.3451, Acc = 0.916\n",
            "\n"
          ]
        },
        {
          "output_type": "stream",
          "name": "stderr",
          "text": [
            "Epoch 32: 100%|██████████| 8/8 [00:01<00:00,  5.62batch/s, accuracy=94.2, loss=0.189]\n"
          ]
        },
        {
          "output_type": "stream",
          "name": "stdout",
          "text": [
            "test: Loss = 0.3309, Acc = 0.9162\n",
            "\n"
          ]
        },
        {
          "output_type": "stream",
          "name": "stderr",
          "text": [
            "Epoch 33: 100%|██████████| 8/8 [00:01<00:00,  5.45batch/s, accuracy=94.2, loss=0.177]\n"
          ]
        },
        {
          "output_type": "stream",
          "name": "stdout",
          "text": [
            "test: Loss = 0.3322, Acc = 0.9182\n",
            "\n"
          ]
        },
        {
          "output_type": "stream",
          "name": "stderr",
          "text": [
            "Epoch 34: 100%|██████████| 8/8 [00:01<00:00,  4.79batch/s, accuracy=95.8, loss=0.148]\n"
          ]
        },
        {
          "output_type": "stream",
          "name": "stdout",
          "text": [
            "test: Loss = 0.3534, Acc = 0.9133\n",
            "\n"
          ]
        },
        {
          "output_type": "stream",
          "name": "stderr",
          "text": [
            "Epoch 35: 100%|██████████| 8/8 [00:01<00:00,  5.56batch/s, accuracy=95.6, loss=0.169]\n"
          ]
        },
        {
          "output_type": "stream",
          "name": "stdout",
          "text": [
            "test: Loss = 0.3744, Acc = 0.9124\n",
            "\n"
          ]
        },
        {
          "output_type": "stream",
          "name": "stderr",
          "text": [
            "Epoch 36: 100%|██████████| 8/8 [00:01<00:00,  4.70batch/s, accuracy=93.6, loss=0.166]\n"
          ]
        },
        {
          "output_type": "stream",
          "name": "stdout",
          "text": [
            "test: Loss = 0.328, Acc = 0.9124\n",
            "\n"
          ]
        },
        {
          "output_type": "stream",
          "name": "stderr",
          "text": [
            "Epoch 37: 100%|██████████| 8/8 [00:01<00:00,  5.42batch/s, accuracy=94.6, loss=0.188]\n"
          ]
        },
        {
          "output_type": "stream",
          "name": "stdout",
          "text": [
            "test: Loss = 0.3558, Acc = 0.9127\n",
            "\n"
          ]
        },
        {
          "output_type": "stream",
          "name": "stderr",
          "text": [
            "Epoch 38: 100%|██████████| 8/8 [00:01<00:00,  5.64batch/s, accuracy=94.6, loss=0.165]\n"
          ]
        },
        {
          "output_type": "stream",
          "name": "stdout",
          "text": [
            "test: Loss = 0.3709, Acc = 0.914\n",
            "\n"
          ]
        },
        {
          "output_type": "stream",
          "name": "stderr",
          "text": [
            "Epoch 39: 100%|██████████| 8/8 [00:02<00:00,  3.75batch/s, accuracy=95.6, loss=0.146]\n"
          ]
        },
        {
          "output_type": "stream",
          "name": "stdout",
          "text": [
            "test: Loss = 0.3545, Acc = 0.9136\n",
            "\n"
          ]
        }
      ],
      "source": [
        "num_epochs = 40\n",
        "\n",
        "for epoch in range(num_epochs):\n",
        "  # Train\n",
        "  model, loss_train, acc_train = train_one_epoch(model,\n",
        "                                                 train_loader,\n",
        "                                                 loss_fn,\n",
        "                                                 optimizer,\n",
        "                                                 epoch)\n",
        "  # testation\n",
        "  loss_test, acc_test = validation(model,\n",
        "                                     test_loader,\n",
        "                                     loss_fn)\n",
        "\n",
        "\n",
        "  loss_train_hist.append(loss_train)\n",
        "  loss_test_hist.append(loss_test)\n",
        "\n",
        "  acc_train_hist.append(acc_train)\n",
        "  acc_test_hist.append(acc_test)\n",
        "\n",
        "  if loss_test < best_loss_test:\n",
        "\n",
        "    # torch.save(model, f'.../model.pt')\n",
        "    best_loss_test = loss_test\n",
        "\n",
        "  print(f'test: Loss = {loss_test:.4}, Acc = {acc_test:.4}')\n",
        "  print()\n",
        "\n",
        "  epoch_counter += 1\n",
        "\n",
        "\n"
      ]
    },
    {
      "cell_type": "code",
      "execution_count": null,
      "metadata": {
        "colab": {
          "base_uri": "https://localhost:8080/",
          "height": 469
        },
        "outputId": "039dbe2f-b700-4f7f-82ad-832024a6c456",
        "id": "503A3dRSygvk"
      },
      "outputs": [
        {
          "output_type": "execute_result",
          "data": {
            "text/plain": [
              "<matplotlib.legend.Legend at 0x7b52431969b0>"
            ]
          },
          "metadata": {},
          "execution_count": 118
        },
        {
          "output_type": "display_data",
          "data": {
            "text/plain": [
              "<Figure size 640x480 with 1 Axes>"
            ],
            "image/png": "[encoded data removed]"
          },
          "metadata": {}
        }
      ],
      "source": [
        "plt.plot(range(epoch_counter), loss_train_hist, 'r-', label='Train')\n",
        "plt.plot(range(epoch_counter), loss_valid_hist, 'b-', label='Validation')\n",
        "\n",
        "plt.xlabel('Epoch')\n",
        "plt.ylabel('loss')\n",
        "plt.grid(True)\n",
        "plt.legend()"
      ]
    },
    {
      "cell_type": "code",
      "execution_count": null,
      "metadata": {
        "colab": {
          "base_uri": "https://localhost:8080/",
          "height": 466
        },
        "outputId": "ce4380d1-c456-4b8e-9abe-0254c5b2c604",
        "id": "pWAxcGy9ygvk"
      },
      "outputs": [
        {
          "output_type": "execute_result",
          "data": {
            "text/plain": [
              "<matplotlib.legend.Legend at 0x7b52424a2e60>"
            ]
          },
          "metadata": {},
          "execution_count": 119
        },
        {
          "output_type": "display_data",
          "data": {
            "text/plain": [
              "<Figure size 640x480 with 1 Axes>"
            ],
            "image/png": "[encoded data removed]"
          },
          "metadata": {}
        }
      ],
      "source": [
        "plt.plot(range(epoch_counter), acc_train_hist, 'r-', label='Train')\n",
        "plt.plot(range(epoch_counter), acc_valid_hist, 'b-', label='Validation')\n",
        "\n",
        "plt.xlabel('Epoch')\n",
        "plt.ylabel('Acc')\n",
        "plt.grid(True)\n",
        "plt.legend()"
      ]
    }
  ],
  "metadata": {
    "colab": {
      "provenance": []
    },
    "kernelspec": {
      "display_name": "Python 3",
      "name": "python3"
    },
    "language_info": {
      "name": "python"
    }
  },
  "nbformat": 4,
  "nbformat_minor": 0
}